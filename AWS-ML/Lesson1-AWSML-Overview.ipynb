{
 "cells": [
  {
   "cell_type": "markdown",
   "metadata": {
    "colab_type": "text",
    "id": "iwV-bBLUtTQu"
   },
   "source": [
    "# Lesson 1 AWS Machine Learning-Specialty (ML-S) Certification"
   ]
  },
  {
   "cell_type": "markdown",
   "metadata": {
    "colab_type": "text",
    "id": "1Plkp_JsOq9Q"
   },
   "source": [
    "## 1.1 Certification Overview"
   ]
  },
  {
   "cell_type": "markdown",
   "metadata": {
    "colab_type": "text",
    "id": "bq4VmHjPpMOR"
   },
   "source": [
    "### Load AWS API Keys"
   ]
  },
  {
   "cell_type": "markdown",
   "metadata": {
    "colab_type": "text",
    "id": "aWrzIk7WpRoh"
   },
   "source": [
    "Put keys in local or remote GDrive:  \n",
    "\n",
    "`cp ~/.aws/credentials /Users/myname/Google\\ Drive/awsml/`"
   ]
  },
  {
   "cell_type": "markdown",
   "metadata": {
    "colab_type": "text",
    "id": "hPWO_zyRopXN"
   },
   "source": [
    "#### Mount GDrive\n"
   ]
  },
  {
   "cell_type": "code",
   "execution_count": 0,
   "metadata": {
    "colab": {
     "base_uri": "https://localhost:8080/",
     "height": 34
    },
    "colab_type": "code",
    "executionInfo": {
     "elapsed": 614,
     "status": "ok",
     "timestamp": 1544490446316,
     "user": {
      "displayName": "Noah Gift",
      "photoUrl": "https://lh4.googleusercontent.com/-dTIpOULZLNo/AAAAAAAAAAI/AAAAAAAAFSA/_rU4zfumAAY/s64/photo.jpg",
      "userId": "07348815708884684945"
     },
     "user_tz": 480
    },
    "id": "XI73HZNLobp4",
    "outputId": "024a06d8-2af1-401a-f488-83d0dc028baa"
   },
   "outputs": [
    {
     "name": "stdout",
     "output_type": "stream",
     "text": [
      "Drive already mounted at /content/gdrive; to attempt to forcibly remount, call drive.mount(\"/content/gdrive\", force_remount=True).\n"
     ]
    }
   ],
   "source": [
    "from google.colab import drive\n",
    "drive.mount('/content/gdrive')"
   ]
  },
  {
   "cell_type": "code",
   "execution_count": 0,
   "metadata": {
    "colab": {
     "base_uri": "https://localhost:8080/",
     "height": 34
    },
    "colab_type": "code",
    "executionInfo": {
     "elapsed": 318,
     "status": "ok",
     "timestamp": 1544490449959,
     "user": {
      "displayName": "Noah Gift",
      "photoUrl": "https://lh4.googleusercontent.com/-dTIpOULZLNo/AAAAAAAAAAI/AAAAAAAAFSA/_rU4zfumAAY/s64/photo.jpg",
      "userId": "07348815708884684945"
     },
     "user_tz": 480
    },
    "id": "UNyzZwgmoxwm",
    "outputId": "13a1dbee-7a6a-43f1-bd41-53920f78e597"
   },
   "outputs": [
    {
     "data": {
      "text/plain": [
       "['kaggle.json', 'credentials', 'config']"
      ]
     },
     "execution_count": 16,
     "metadata": {
      "tags": []
     },
     "output_type": "execute_result"
    }
   ],
   "source": [
    "import os;os.listdir(\"/content/gdrive/My Drive/awsml\")"
   ]
  },
  {
   "cell_type": "markdown",
   "metadata": {
    "colab_type": "text",
    "id": "fYu0ekUlqPk6"
   },
   "source": [
    "#### Install Boto"
   ]
  },
  {
   "cell_type": "code",
   "execution_count": 0,
   "metadata": {
    "colab": {},
    "colab_type": "code",
    "collapsed": true,
    "id": "dJDDrUkWrYRY"
   },
   "outputs": [],
   "source": [
    "!pip -q install boto3\n"
   ]
  },
  {
   "cell_type": "markdown",
   "metadata": {
    "colab_type": "text",
    "id": "FpJhrpSQsK5E"
   },
   "source": [
    "#### Create API Config"
   ]
  },
  {
   "cell_type": "code",
   "execution_count": 0,
   "metadata": {
    "colab": {},
    "colab_type": "code",
    "collapsed": true,
    "id": "QxRwGOZtsN0-"
   },
   "outputs": [],
   "source": [
    "!mkdir -p ~/.aws &&\\\n",
    "  cp /content/gdrive/My\\ Drive/awsml/credentials ~/.aws/credentials "
   ]
  },
  {
   "cell_type": "markdown",
   "metadata": {
    "colab_type": "text",
    "id": "Kj977UW3rph_"
   },
   "source": [
    "#### Test Comprehend API Call"
   ]
  },
  {
   "cell_type": "code",
   "execution_count": 0,
   "metadata": {
    "colab": {
     "base_uri": "https://localhost:8080/",
     "height": 238
    },
    "colab_type": "code",
    "executionInfo": {
     "elapsed": 717,
     "status": "ok",
     "timestamp": 1544490466466,
     "user": {
      "displayName": "Noah Gift",
      "photoUrl": "https://lh4.googleusercontent.com/-dTIpOULZLNo/AAAAAAAAAAI/AAAAAAAAFSA/_rU4zfumAAY/s64/photo.jpg",
      "userId": "07348815708884684945"
     },
     "user_tz": 480
    },
    "id": "P-A8Cia-raT0",
    "outputId": "46e71d25-6835-4850-b40b-cb0db9b5d50e"
   },
   "outputs": [
    {
     "data": {
      "text/plain": [
       "{'ResponseMetadata': {'HTTPHeaders': {'connection': 'keep-alive',\n",
       "   'content-length': '160',\n",
       "   'content-type': 'application/x-amz-json-1.1',\n",
       "   'date': 'Tue, 11 Dec 2018 01:07:46 GMT',\n",
       "   'x-amzn-requestid': '2b726af9-fce1-11e8-a4e1-2d227516436e'},\n",
       "  'HTTPStatusCode': 200,\n",
       "  'RequestId': '2b726af9-fce1-11e8-a4e1-2d227516436e',\n",
       "  'RetryAttempts': 0},\n",
       " 'Sentiment': 'NEUTRAL',\n",
       " 'SentimentScore': {'Mixed': 0.008628507144749165,\n",
       "  'Negative': 0.1037612184882164,\n",
       "  'Neutral': 0.8582549691200256,\n",
       "  'Positive': 0.0293553676456213}}"
      ]
     },
     "execution_count": 19,
     "metadata": {
      "tags": []
     },
     "output_type": "execute_result"
    }
   ],
   "source": [
    "import boto3\n",
    "comprehend = boto3.client(service_name='comprehend', region_name=\"us-east-1\")\n",
    "text = \"There is smoke in San Francisco\"\n",
    "comprehend.detect_sentiment(Text=text, LanguageCode='en')"
   ]
  },
  {
   "cell_type": "markdown",
   "metadata": {
    "colab_type": "text",
    "id": "a_Hn6rgoO_z6"
   },
   "source": [
    "### Audience\n",
    "\n"
   ]
  },
  {
   "cell_type": "markdown",
   "metadata": {
    "colab_type": "text",
    "id": "p6gltgZ4aCXi"
   },
   "source": [
    "Intended for individuals who perform Development or Data Science role"
   ]
  },
  {
   "cell_type": "markdown",
   "metadata": {
    "colab_type": "text",
    "id": "1-ss6GUEQr2G"
   },
   "source": [
    "### Validates ability to:"
   ]
  },
  {
   "cell_type": "markdown",
   "metadata": {
    "colab_type": "text",
    "id": "5nMOxGJ6QyD3"
   },
   "source": [
    "* \"design, implement, deploy and maintain ML solutions\"\n",
    "* \"select and justify appropriate ML approaches\"\n",
    "* \"indentify appropriate AWS services to implement ML solutions\"\n",
    "* \"Design and implement scalable, cost-optimized, reliable, and secure ML solutions\""
   ]
  },
  {
   "cell_type": "markdown",
   "metadata": {
    "colab_type": "text",
    "id": "fNvM_qt9Tf_9"
   },
   "source": [
    "### Recommended AWS Knowledge"
   ]
  },
  {
   "cell_type": "markdown",
   "metadata": {
    "colab_type": "text",
    "id": "u6OQZt9yYjQQ"
   },
   "source": [
    "* Hands-on experience:\n",
    "\n",
    " - developing\n",
    " - architecting\n",
    " - running ML/deep learning workloads on AWS Cloud\n",
    " \n",
    "* Ability to express intuition behind basic ML algorithms\n",
    "* Experience performance basic hyperparameter optimization\n",
    "* Experience with ML and deep learning frameworks\n",
    "* Ability to follow model training best practices\n",
    "* Ability to follow deployment and operational best practices"
   ]
  },
  {
   "cell_type": "markdown",
   "metadata": {
    "colab_type": "text",
    "id": "Zi90QSTFP09x"
   },
   "source": [
    "## 1.2 Exam Study Resources"
   ]
  },
  {
   "cell_type": "markdown",
   "metadata": {
    "colab_type": "text",
    "id": "32z26FBzP7Yx"
   },
   "source": [
    "### Official AWS Material"
   ]
  },
  {
   "cell_type": "markdown",
   "metadata": {
    "colab_type": "text",
    "id": "ELmnS7-X9OUg"
   },
   "source": [
    "![Sequential Split](https://user-images.githubusercontent.com/58792/49745472-de7cb500-fc53-11e8-8dd8-1fb2075d1373.png)"
   ]
  },
  {
   "cell_type": "markdown",
   "metadata": {
    "colab_type": "text",
    "id": "CVrF3Jt5auYw"
   },
   "source": [
    "* [AWS ML University](https://aws.amazon.com/training/learning-paths/machine-learning/)\n",
    "* [Machine Learning on AWS](https://aws.amazon.com/machine-learning/)\n",
    "* [Amazon Machine Learning Concepts](https://docs.aws.amazon.com/machine-learning/latest/dg/amazon-machine-learning-key-concepts.html)\n",
    "* [Splitting Your Data](https://docs.aws.amazon.com/machine-learning/latest/dg/splitting-types.html)\n",
    "* [Types of Machine Learning Models](https://docs.aws.amazon.com/machine-learning/latest/dg/types-of-ml-models.html)\n",
    "* [Data Transformations](https://docs.aws.amazon.com/machine-learning/latest/dg/data-transformations-reference.html)\n",
    "* [Containerized Machine Learning on AWS Video](https://www.youtube.com/watch?v=Jw9CpQkCvpM)\n",
    "* [AWS re:Invent Machine Learning Talk 2017](https://www.youtube.com/watch?v=Q7N2iVfgA0U&list=PLOS8MNIsAkpJCaOSQP6t5uoVtwUr0SFvM)"
   ]
  },
  {
   "cell_type": "markdown",
   "metadata": {
    "colab_type": "text",
    "id": "BEnCuHS9dwrz"
   },
   "source": [
    "## 1.3 Review Exam Guide"
   ]
  },
  {
   "cell_type": "markdown",
   "metadata": {
    "colab_type": "text",
    "id": "VAbktr8VEnOa"
   },
   "source": [
    "[AWS Certified Machine Learning–Specialty (MLS-C01) Exam Guide ](https://d1.awsstatic.com/training-and-certification/machinelearning/AWS%20Certified%20Machine%20Learning%20-%20Specialty_Exam%20Guide_v1.1_FINAL.pdf)"
   ]
  },
  {
   "cell_type": "markdown",
   "metadata": {
    "colab_type": "text",
    "id": "_MaUFpeYfi7N"
   },
   "source": [
    "### Domains Covered"
   ]
  },
  {
   "cell_type": "markdown",
   "metadata": {
    "colab_type": "text",
    "id": "VZDWHZqseWWv"
   },
   "source": [
    "#### Data Engineering"
   ]
  },
  {
   "cell_type": "markdown",
   "metadata": {
    "colab_type": "text",
    "id": "FRiNV06zem2l"
   },
   "source": [
    "* Create data repositories for Machine Learning\n",
    "* Identify and implement a data-ingestion solution\n",
    "* Identify and implement a data-transformation solution\n"
   ]
  },
  {
   "cell_type": "markdown",
   "metadata": {
    "colab_type": "text",
    "id": "25Luji1Geomt"
   },
   "source": [
    "#### Exploratory Data Analysis"
   ]
  },
  {
   "cell_type": "markdown",
   "metadata": {
    "colab_type": "text",
    "id": "uyJ1W9rFerwC"
   },
   "source": [
    "* Sanitize and prepare data modeling\n",
    "* Perform feature engineering\n",
    "* Analyze and visualize data for machine learning"
   ]
  },
  {
   "cell_type": "markdown",
   "metadata": {
    "colab_type": "text",
    "id": "1aXnAOugeo6U"
   },
   "source": [
    "#### Modeling"
   ]
  },
  {
   "cell_type": "markdown",
   "metadata": {
    "colab_type": "text",
    "id": "vGxJjZRFeomv"
   },
   "source": [
    "\n",
    "\n",
    "*   Frame business problems as machine learning problems\n",
    "*   Select the appropriate model(s) for a given machine learning problem\n",
    "* Train machine learning models\n",
    "* Perform hyperparameter optimization\n",
    "* Evaluate machine learning models\n",
    "\n"
   ]
  },
  {
   "cell_type": "markdown",
   "metadata": {
    "colab_type": "text",
    "id": "djWXK2seiNDW"
   },
   "source": [
    "#### Machine Learning Implementation and Operations"
   ]
  },
  {
   "cell_type": "markdown",
   "metadata": {
    "colab_type": "text",
    "id": "GCzIR17CiNWT"
   },
   "source": [
    "*   Build machine learning solutions for performance, availability, scalability, resiliency, and fault tolerance.\n",
    "*  Recommend and implement the appropriate machine learning services and features for a given problem.\n",
    "* Apply basic AWS security practices to machine learning solutions.\n",
    "* Deploy and operationalize machine learning solutions.\n",
    "\n"
   ]
  },
  {
   "cell_type": "markdown",
   "metadata": {
    "colab_type": "text",
    "id": "wHzy9ZUMgW75"
   },
   "source": [
    "## 1.4 Exam Strategy"
   ]
  },
  {
   "cell_type": "markdown",
   "metadata": {
    "colab_type": "text",
    "id": "M4gg-gZRTEHn"
   },
   "source": [
    "### Official Exam Study Guide"
   ]
  },
  {
   "cell_type": "markdown",
   "metadata": {
    "colab_type": "text",
    "id": "YuWXy-1wT2Hu"
   },
   "source": [
    "![Study Path](https://user-images.githubusercontent.com/58792/49443332-06b27280-f781-11e8-8ec2-88af4d47724e.png)"
   ]
  },
  {
   "cell_type": "markdown",
   "metadata": {
    "colab_type": "text",
    "id": "5F6qIpnTgdDb"
   },
   "source": [
    "## 1.5 Best Practices of ML on AWS"
   ]
  },
  {
   "cell_type": "markdown",
   "metadata": {
    "colab_type": "text",
    "id": "Hat17x80OVRW"
   },
   "source": [
    "### Build vs Buy\n",
    "\n",
    "![hero](https://user-images.githubusercontent.com/58792/45260894-08e67a00-b3a8-11e8-941f-e539cb10f8e1.jpg)"
   ]
  },
  {
   "cell_type": "markdown",
   "metadata": {
    "colab_type": "text",
    "id": "clBbP1yD182S"
   },
   "source": [
    "### Overview\n",
    "\n",
    "Auto and Managed ML Services on AWS \n",
    "\n",
    "*   AWS Sagemaker\n",
    "*   AWS Machine Learning\n",
    "\n",
    "Human in the Loop\n",
    "\n",
    "* AWS Sagemaker Ground Truth\n",
    "* AWS Mechanical Turk\n",
    "\n",
    "Supporting Technologies\n",
    "\n",
    "* MXNet\n",
    "\n"
   ]
  },
  {
   "cell_type": "markdown",
   "metadata": {
    "colab_type": "text",
    "id": "85hU7hzXKSCw"
   },
   "source": [
    "### AWS Sagemaker"
   ]
  },
  {
   "cell_type": "markdown",
   "metadata": {
    "colab_type": "text",
    "id": "2ptFIFj5KZpz"
   },
   "source": [
    "[Sagemaker Features](https://aws.amazon.com/sagemaker/features/)\n",
    "\n",
    "![AWS Sagemaker](https://user-images.githubusercontent.com/58792/45426785-09a23900-b652-11e8-9ba6-4ff58a8103d5.png)\n",
    "\n",
    "\n",
    "*   Build\n",
    "\n",
    " - Preconfigured Jupyter Notebooks\n",
    " - Built in, High Performance Algorithms (Optimized petabyte-scale peformance)\n",
    " - Supports many frameworks:  MXnet, Tensorflow, sklearn\n",
    "\n",
    "\n",
    "*   Train\n",
    "\n",
    " - One click train with S3 target\n",
    " - Automatic hyperparameter tuning\n",
    " - Can scale training to clusters of machines with single line of code\n",
    "\n",
    "*   Deploy\n",
    "\n",
    "  - One click Deploy (creates HTTPS endpoint)\n",
    "  - Automatic A/B Testing\n",
    "  - Fully managed auto-scaling of inference\n",
    "  \n",
    "\n"
   ]
  },
  {
   "cell_type": "markdown",
   "metadata": {
    "colab_type": "text",
    "id": "u50fSNs-KaGc"
   },
   "source": [
    "### AWS Machine Learning"
   ]
  },
  {
   "cell_type": "markdown",
   "metadata": {
    "colab_type": "text",
    "id": "rhoSapkikDyh"
   },
   "source": [
    "[Amazon Machine Learning Service](https://aws.amazon.com/aml/)\n",
    "\n",
    "![alt text](https://user-images.githubusercontent.com/58792/45425471-53892000-b64e-11e8-8895-794014ce3702.png)\n",
    "\n",
    "**Key Features**\n",
    "\n",
    "\n",
    "*   \" makes it easy for developers of all skill levels to use machine learning technology\"\n",
    "*   Managaged ML Service\n",
    "\n",
    "\n",
    "\n",
    "\n",
    "\n",
    "**Resources**\n",
    "*   [Introduction to AWS Machine Learning Video](https://youtu.be/PAHU8tPA7xs)\n",
    "*   [Kaggle + Amazon ML Service](https://aws.amazon.com/blogs/big-data/building-a-numeric-regression-model-with-amazon-machine-learning/)\n",
    "* [amazon ml dev guide](https://docs.aws.amazon.com/machine-learning/latest/dg/what-is-amazon-machine-learning.html)\n"
   ]
  },
  {
   "cell_type": "markdown",
   "metadata": {
    "colab_type": "text",
    "id": "R8J2HtlNkSkw"
   },
   "source": [
    "### MXNet"
   ]
  },
  {
   "cell_type": "markdown",
   "metadata": {
    "colab_type": "text",
    "id": "EyYskTvYkSkx"
   },
   "source": [
    "[Open Source Docs](https://gluon.mxnet.io/)\n",
    "\n",
    "![mxnet logo](https://user-images.githubusercontent.com/58792/45424774-5e42b580-b64c-11e8-90f3-1f022fbc35e7.png)\n",
    "\n",
    "\n",
    "*  Alternative to TensorFlow\n",
    "*  Amazon Backed\n",
    "*  Integrated into Sagemaker and DeepLense\n",
    "*  Has production-ready orchestration tools:  ECS, Docker, Kubernetes \n",
    "*  Can do[ inference via AWS Lambda](https://github.com/awslabs/mxnet-lambda) \n",
    "\n",
    "**Resources**\n",
    "\n",
    "* [Serving Machine Learning Models with Apache MXNet & AWS Fargate](https://www.youtube.com/watch?v=YlUoa3hLz78)\n",
    "* [mxnet-lambda](https://github.com/awslabs/mxnet-lambda)\n",
    "\n",
    "\n",
    "\n"
   ]
  },
  {
   "cell_type": "markdown",
   "metadata": {
    "colab_type": "text",
    "id": "VNOE6ux82c48"
   },
   "source": [
    "### Demo AWS Sagemaker"
   ]
  },
  {
   "cell_type": "markdown",
   "metadata": {
    "colab_type": "text",
    "id": "hksa_zjN2c49"
   },
   "source": [
    "\n",
    "\n",
    "\n"
   ]
  },
  {
   "cell_type": "markdown",
   "metadata": {
    "colab_type": "text",
    "id": "d3zO9gCx2mw8"
   },
   "source": [
    "### Demo AWS ML Service"
   ]
  },
  {
   "cell_type": "markdown",
   "metadata": {
    "colab_type": "text",
    "id": "zjSJwCj22mw-"
   },
   "source": [
    "\n",
    "\n",
    "\n"
   ]
  },
  {
   "cell_type": "markdown",
   "metadata": {
    "colab_type": "text",
    "id": "0XPffMjwgdlP"
   },
   "source": [
    "#### Build vs Buy"
   ]
  },
  {
   "cell_type": "markdown",
   "metadata": {
    "colab_type": "text",
    "id": "dwhY-5XaJVxt"
   },
   "source": [
    "* When to use AI APIs vs ML Platforms"
   ]
  },
  {
   "cell_type": "markdown",
   "metadata": {
    "colab_type": "text",
    "id": "Tqf9CASngdxS"
   },
   "source": [
    "## 1.6 Techniques to accelerate hands-on practice"
   ]
  },
  {
   "cell_type": "markdown",
   "metadata": {
    "colab_type": "text",
    "id": "ssCPRgECgv9M"
   },
   "source": [
    "### Using Interactive QWIKLABS\n"
   ]
  },
  {
   "cell_type": "markdown",
   "metadata": {
    "colab_type": "text",
    "id": "K3XgRBEQOr5L"
   },
   "source": [
    "A temporary, but real AWS environment that teaches specific labs.\n",
    "\n",
    "![QWiklabs](https://user-images.githubusercontent.com/58792/48742665-b2ea4a00-ec14-11e8-8805-0600f60e637b.png)\n"
   ]
  },
  {
   "cell_type": "markdown",
   "metadata": {
    "colab_type": "text",
    "id": "ASt4qc7fNsyB"
   },
   "source": [
    "#### Big Data on AWS\n",
    "\n",
    "[Big Data on AWS Quest](https://run.qwiklabs.com/quests/5)\n",
    "\n"
   ]
  },
  {
   "cell_type": "markdown",
   "metadata": {
    "colab_type": "text",
    "id": "gqvsJ3vNWuxk"
   },
   "source": [
    "#### Intro to Machine Learning \n",
    "[Introduction to Machine Learning](https://run.qwiklabs.com/focuses/275?parent=catalog)\n"
   ]
  },
  {
   "cell_type": "markdown",
   "metadata": {
    "colab_type": "text",
    "id": "5F7JuoWB9YMh"
   },
   "source": [
    "### Using AWS Console, Sagemaker and APIS\n"
   ]
  },
  {
   "cell_type": "markdown",
   "metadata": {
    "colab_type": "text",
    "id": "oVNpPPRg9fVt"
   },
   "source": [
    "\n",
    "\n",
    "*   Console to Explore\n",
    "*   Sagemaker\n",
    "*   APIs via Boto\n",
    "\n"
   ]
  },
  {
   "cell_type": "markdown",
   "metadata": {
    "colab_type": "text",
    "id": "6ANmS4rzgwMt"
   },
   "source": [
    "## 1.7 Understand important ML related services"
   ]
  },
  {
   "cell_type": "markdown",
   "metadata": {
    "colab_type": "text",
    "id": "Fah6T6emIyUe"
   },
   "source": [
    "### ML Platform Services"
   ]
  },
  {
   "cell_type": "markdown",
   "metadata": {
    "colab_type": "text",
    "id": "nUiZr9xpzkqa"
   },
   "source": [
    "#### Amazon Sagemaker"
   ]
  },
  {
   "cell_type": "markdown",
   "metadata": {
    "colab_type": "text",
    "id": "FZYG0GkdzlEJ"
   },
   "source": [
    "**[Demo] Overview Console**"
   ]
  },
  {
   "cell_type": "markdown",
   "metadata": {
    "colab_type": "text",
    "id": "ITlrgLKMzqHP"
   },
   "source": [
    "#### AWS DeepLens"
   ]
  },
  {
   "cell_type": "markdown",
   "metadata": {
    "colab_type": "text",
    "id": "q7m3P7VtTIwp"
   },
   "source": [
    "![alt text](https://user-images.githubusercontent.com/58792/45308029-688e7380-b4d5-11e8-8ffb-9422184c274c.png)"
   ]
  },
  {
   "cell_type": "markdown",
   "metadata": {
    "colab_type": "text",
    "id": "kNlxPx5tzqPv"
   },
   "source": [
    "**[Demo] Overview Console**"
   ]
  },
  {
   "cell_type": "markdown",
   "metadata": {
    "colab_type": "text",
    "id": "7biG-GVVIGC6"
   },
   "source": [
    "#### EMR"
   ]
  },
  {
   "cell_type": "markdown",
   "metadata": {
    "colab_type": "text",
    "id": "UnQk77SXIUC8"
   },
   "source": [
    "* [Amazon EMR](https://aws.amazon.com/emr/?nc2=type_a)\n",
    "* Managed Hadoop/Spark\n",
    "* Use cases:\n",
    "\n",
    "  - clickstream analysis\n",
    "  - real-time analytics\n",
    "  - log analysis\n",
    "  - ETL\n",
    "  - predictive analytics\n",
    "  - genomics\n",
    "\n"
   ]
  },
  {
   "cell_type": "markdown",
   "metadata": {
    "colab_type": "text",
    "id": "cmc_bK0O-GLY"
   },
   "source": [
    "**[Demo] Overview Console**"
   ]
  },
  {
   "cell_type": "code",
   "execution_count": 0,
   "metadata": {
    "colab": {},
    "colab_type": "code",
    "collapsed": true,
    "id": "YVeraFFMIk2X"
   },
   "outputs": [],
   "source": []
  },
  {
   "cell_type": "markdown",
   "metadata": {
    "colab_type": "text",
    "id": "feIMA0rZI0Ln"
   },
   "source": [
    "#### Amazon Machine Learning Service"
   ]
  },
  {
   "cell_type": "markdown",
   "metadata": {
    "colab_type": "text",
    "id": "lTkcPdGRI3mn"
   },
   "source": [
    "* [Amazon Machine Learning](https://aws.amazon.com/aml/?nc2=type_a)\n",
    "* Provides visualization and wizards to help create ML models\n",
    "* AutoML technology"
   ]
  },
  {
   "cell_type": "markdown",
   "metadata": {
    "colab_type": "text",
    "id": "2zexMLPD-HwQ"
   },
   "source": [
    "**[Demo] Overview Console**"
   ]
  },
  {
   "cell_type": "code",
   "execution_count": 0,
   "metadata": {
    "colab": {},
    "colab_type": "code",
    "collapsed": true,
    "id": "vuo7p0MaI2yn"
   },
   "outputs": [],
   "source": []
  },
  {
   "cell_type": "markdown",
   "metadata": {
    "colab_type": "text",
    "id": "JwuIMAsl3Dfo"
   },
   "source": [
    "### Deep Learning on AWS"
   ]
  },
  {
   "cell_type": "markdown",
   "metadata": {
    "colab_type": "text",
    "id": "a781nJ5a3Dfq"
   },
   "source": [
    "#### AWS Deep Learning AMIs"
   ]
  },
  {
   "cell_type": "markdown",
   "metadata": {
    "colab_type": "text",
    "id": "GmUsOy9f3Dfr"
   },
   "source": [
    "* [AWS Deep Learning AMIs](https://aws.amazon.com/machine-learning/amis/)"
   ]
  },
  {
   "cell_type": "markdown",
   "metadata": {
    "colab_type": "text",
    "id": "Afia2nad3Dfr"
   },
   "source": [
    "#### Apache MXNet"
   ]
  },
  {
   "cell_type": "markdown",
   "metadata": {
    "colab_type": "text",
    "id": "-Jqn-Scd3Dfs"
   },
   "source": [
    "\n",
    "\n",
    "*   [Apache MXNet on AWS](https://aws.amazon.com/machine-learning/amis/)\n",
    "\n",
    "\n"
   ]
  },
  {
   "cell_type": "markdown",
   "metadata": {
    "colab_type": "text",
    "id": "YMSvoYJA6yhy"
   },
   "source": [
    "#### TensorFlow on AWS"
   ]
  },
  {
   "cell_type": "markdown",
   "metadata": {
    "colab_type": "text",
    "id": "Ssjheq6T6yhz"
   },
   "source": [
    "* [TensorFlow on AWS](https://aws.amazon.com/tensorflow/)\n",
    "* [88% of TensorFlow workloads are on AWS](https://d1.awsstatic.com/whitepapers/nucleus-tensorflow.pdf)"
   ]
  },
  {
   "cell_type": "markdown",
   "metadata": {
    "colab_type": "text",
    "id": "cZivE3wYAi8W"
   },
   "source": [
    "### AI APIs"
   ]
  },
  {
   "cell_type": "markdown",
   "metadata": {
    "colab_type": "text",
    "id": "2OgOsp_KCI9q"
   },
   "source": [
    "#### Vision Services"
   ]
  },
  {
   "cell_type": "markdown",
   "metadata": {
    "colab_type": "text",
    "id": "edSjR5ZWAr8B"
   },
   "source": [
    "##### Rekognition Image"
   ]
  },
  {
   "cell_type": "markdown",
   "metadata": {
    "colab_type": "text",
    "id": "U0I36-hkBC_o"
   },
   "source": [
    "* Deep learning-based image analysis"
   ]
  },
  {
   "cell_type": "markdown",
   "metadata": {
    "colab_type": "text",
    "id": "unO3Xs6mBGVM"
   },
   "source": [
    "##### Rekognition Video"
   ]
  },
  {
   "cell_type": "markdown",
   "metadata": {
    "colab_type": "text",
    "id": "qWEufCj5BG02"
   },
   "source": [
    "* Deep learning-based video analysis"
   ]
  },
  {
   "cell_type": "markdown",
   "metadata": {
    "colab_type": "text",
    "id": "5C5vF2VgCGRW"
   },
   "source": [
    "#### Conversational chatbots"
   ]
  },
  {
   "cell_type": "markdown",
   "metadata": {
    "colab_type": "text",
    "id": "kEtDUKkECGbF"
   },
   "source": [
    "##### Amazon Lex"
   ]
  },
  {
   "cell_type": "markdown",
   "metadata": {
    "colab_type": "text",
    "id": "TewlJ3c_Cuun"
   },
   "source": [
    "* [Amazon Lex](https://aws.amazon.com/lex/)\n",
    "* Service for building conversational interfaces"
   ]
  },
  {
   "cell_type": "markdown",
   "metadata": {
    "colab_type": "text",
    "id": "WT2SdNwvCx-s"
   },
   "source": [
    "#### Language Services"
   ]
  },
  {
   "cell_type": "markdown",
   "metadata": {
    "colab_type": "text",
    "id": "R7ZM8x0YC20l"
   },
   "source": [
    "##### Comprehend"
   ]
  },
  {
   "cell_type": "markdown",
   "metadata": {
    "colab_type": "text",
    "id": "SzXeFzbaC8Mw"
   },
   "source": [
    "* [AWS Comprehend](https://aws.amazon.com/comprehend/)\n",
    "* NLP service\n",
    "  - Sentiment Analysis\n"
   ]
  },
  {
   "cell_type": "markdown",
   "metadata": {
    "colab_type": "text",
    "id": "ohQ8D7gw6VSf"
   },
   "source": [
    "**Neutral Sentiment**"
   ]
  },
  {
   "cell_type": "code",
   "execution_count": 0,
   "metadata": {
    "colab": {
     "base_uri": "https://localhost:8080/",
     "height": 238
    },
    "colab_type": "code",
    "executionInfo": {
     "elapsed": 635,
     "status": "ok",
     "timestamp": 1544490479798,
     "user": {
      "displayName": "Noah Gift",
      "photoUrl": "https://lh4.googleusercontent.com/-dTIpOULZLNo/AAAAAAAAAAI/AAAAAAAAFSA/_rU4zfumAAY/s64/photo.jpg",
      "userId": "07348815708884684945"
     },
     "user_tz": 480
    },
    "id": "NoVwmOrg4N-4",
    "outputId": "0fbefb18-2f3b-49f2-e6a4-f6c34253e034"
   },
   "outputs": [
    {
     "data": {
      "text/plain": [
       "{'ResponseMetadata': {'HTTPHeaders': {'connection': 'keep-alive',\n",
       "   'content-length': '160',\n",
       "   'content-type': 'application/x-amz-json-1.1',\n",
       "   'date': 'Tue, 11 Dec 2018 01:07:59 GMT',\n",
       "   'x-amzn-requestid': '3368fdfa-fce1-11e8-8656-5735cedac40a'},\n",
       "  'HTTPStatusCode': 200,\n",
       "  'RequestId': '3368fdfa-fce1-11e8-8656-5735cedac40a',\n",
       "  'RetryAttempts': 0},\n",
       " 'Sentiment': 'NEUTRAL',\n",
       " 'SentimentScore': {'Mixed': 0.008628507144749165,\n",
       "  'Negative': 0.1037612184882164,\n",
       "  'Neutral': 0.8582549691200256,\n",
       "  'Positive': 0.0293553676456213}}"
      ]
     },
     "execution_count": 20,
     "metadata": {
      "tags": []
     },
     "output_type": "execute_result"
    }
   ],
   "source": [
    "import boto3\n",
    "comprehend = boto3.client(service_name='comprehend', region_name=\"us-east-1\")\n",
    "text = \"There is smoke in San Francisco\"\n",
    "comprehend.detect_sentiment(Text=text, LanguageCode='en')"
   ]
  },
  {
   "cell_type": "markdown",
   "metadata": {
    "colab_type": "text",
    "id": "R4LrAZbC6ZT2"
   },
   "source": [
    "**Negative Sentiment**"
   ]
  },
  {
   "cell_type": "code",
   "execution_count": 0,
   "metadata": {
    "colab": {
     "base_uri": "https://localhost:8080/",
     "height": 238
    },
    "colab_type": "code",
    "executionInfo": {
     "elapsed": 590,
     "status": "ok",
     "timestamp": 1544490497641,
     "user": {
      "displayName": "Noah Gift",
      "photoUrl": "https://lh4.googleusercontent.com/-dTIpOULZLNo/AAAAAAAAAAI/AAAAAAAAFSA/_rU4zfumAAY/s64/photo.jpg",
      "userId": "07348815708884684945"
     },
     "user_tz": 480
    },
    "id": "7yhXA8g36S-j",
    "outputId": "5b578e62-ce5c-448e-919c-da0d01649981"
   },
   "outputs": [
    {
     "data": {
      "text/plain": [
       "{'ResponseMetadata': {'HTTPHeaders': {'connection': 'keep-alive',\n",
       "   'content-length': '164',\n",
       "   'content-type': 'application/x-amz-json-1.1',\n",
       "   'date': 'Tue, 11 Dec 2018 01:08:17 GMT',\n",
       "   'x-amzn-requestid': '3e127c6f-fce1-11e8-b936-d1be599a3739'},\n",
       "  'HTTPStatusCode': 200,\n",
       "  'RequestId': '3e127c6f-fce1-11e8-b936-d1be599a3739',\n",
       "  'RetryAttempts': 0},\n",
       " 'Sentiment': 'NEGATIVE',\n",
       " 'SentimentScore': {'Mixed': 0.00937745813280344,\n",
       "  'Negative': 0.9539545774459839,\n",
       "  'Neutral': 0.03619137033820152,\n",
       "  'Positive': 0.00047663392615504563}}"
      ]
     },
     "execution_count": 21,
     "metadata": {
      "tags": []
     },
     "output_type": "execute_result"
    }
   ],
   "source": [
    "import boto3\n",
    "comprehend = boto3.client(service_name='comprehend', region_name=\"us-east-1\")\n",
    "text = \"There is smoke in San Francisco and it makes me very angry\"\n",
    "comprehend.detect_sentiment(Text=text, LanguageCode='en')"
   ]
  },
  {
   "cell_type": "code",
   "execution_count": 0,
   "metadata": {
    "colab": {
     "base_uri": "https://localhost:8080/",
     "height": 238
    },
    "colab_type": "code",
    "executionInfo": {
     "elapsed": 750,
     "status": "ok",
     "timestamp": 1544490643140,
     "user": {
      "displayName": "Noah Gift",
      "photoUrl": "https://lh4.googleusercontent.com/-dTIpOULZLNo/AAAAAAAAAAI/AAAAAAAAFSA/_rU4zfumAAY/s64/photo.jpg",
      "userId": "07348815708884684945"
     },
     "user_tz": 480
    },
    "id": "KiZJ2byCzxyk",
    "outputId": "442c88c2-b364-40df-c27a-715eff5badac"
   },
   "outputs": [
    {
     "data": {
      "text/plain": [
       "{'ResponseMetadata': {'HTTPHeaders': {'connection': 'keep-alive',\n",
       "   'content-length': '160',\n",
       "   'content-type': 'application/x-amz-json-1.1',\n",
       "   'date': 'Tue, 11 Dec 2018 01:10:42 GMT',\n",
       "   'x-amzn-requestid': '94b5be74-fce1-11e8-92e1-212d40a34fc0'},\n",
       "  'HTTPStatusCode': 200,\n",
       "  'RequestId': '94b5be74-fce1-11e8-92e1-212d40a34fc0',\n",
       "  'RetryAttempts': 0},\n",
       " 'Sentiment': 'NEGATIVE',\n",
       " 'SentimentScore': {'Mixed': 0.0772324725985527,\n",
       "  'Negative': 0.776195228099823,\n",
       "  'Neutral': 0.10541720688343048,\n",
       "  'Positive': 0.04115508496761322}}"
      ]
     },
     "execution_count": 24,
     "metadata": {
      "tags": []
     },
     "output_type": "execute_result"
    }
   ],
   "source": [
    "trump_text = \"\"\"\n",
    "which it was not (but even if it was, it is only a CIVIL CASE, like Obama’s - but it was done correctly by a lawyer and there would not even be a fine. Lawyer’s liability if he made a mistake, not me). Cohen just trying to get his sentence reduced. WITCH HUNT!\n",
    "\n",
    "\"\"\"\n",
    "comprehend = boto3.client(service_name='comprehend', region_name=\"us-east-1\")\n",
    "comprehend.detect_sentiment(Text=trump_text,LanguageCode='en')\n"
   ]
  },
  {
   "cell_type": "markdown",
   "metadata": {
    "colab_type": "text",
    "id": "l5t2q8wj6q_Q"
   },
   "source": [
    "**Positive Sentiment**"
   ]
  },
  {
   "cell_type": "code",
   "execution_count": 0,
   "metadata": {
    "colab": {
     "base_uri": "https://localhost:8080/",
     "height": 238
    },
    "colab_type": "code",
    "executionInfo": {
     "elapsed": 673,
     "status": "ok",
     "timestamp": 1544481700236,
     "user": {
      "displayName": "Noah Gift",
      "photoUrl": "https://lh4.googleusercontent.com/-dTIpOULZLNo/AAAAAAAAAAI/AAAAAAAAFSA/_rU4zfumAAY/s64/photo.jpg",
      "userId": "07348815708884684945"
     },
     "user_tz": 480
    },
    "id": "6hcW6Dcy6uSm",
    "outputId": "7fb8c3b4-10d9-4298-d91f-9c821dddb783"
   },
   "outputs": [
    {
     "data": {
      "text/plain": [
       "{'ResponseMetadata': {'HTTPHeaders': {'connection': 'keep-alive',\n",
       "   'content-length': '163',\n",
       "   'content-type': 'application/x-amz-json-1.1',\n",
       "   'date': 'Mon, 10 Dec 2018 22:41:39 GMT',\n",
       "   'x-amzn-requestid': 'c25e7c7c-fccc-11e8-b966-5f330c378b33'},\n",
       "  'HTTPStatusCode': 200,\n",
       "  'RequestId': 'c25e7c7c-fccc-11e8-b966-5f330c378b33',\n",
       "  'RetryAttempts': 0},\n",
       " 'Sentiment': 'POSITIVE',\n",
       " 'SentimentScore': {'Mixed': 0.01339163538068533,\n",
       "  'Negative': 0.007987627759575844,\n",
       "  'Neutral': 0.04016350954771042,\n",
       "  'Positive': 0.9384573101997375}}"
      ]
     },
     "execution_count": 12,
     "metadata": {
      "tags": []
     },
     "output_type": "execute_result"
    }
   ],
   "source": [
    "import boto3\n",
    "comprehend = boto3.client(service_name='comprehend', region_name=\"us-east-1\")\n",
    "text = \"There is no more smoke in San Francisco and it makes me very happy\"\n",
    "comprehend.detect_sentiment(Text=text, LanguageCode='en')"
   ]
  },
  {
   "cell_type": "markdown",
   "metadata": {
    "colab_type": "text",
    "id": "PSyy8s7rC9dt"
   },
   "source": [
    "##### Translate"
   ]
  },
  {
   "cell_type": "markdown",
   "metadata": {
    "colab_type": "text",
    "id": "PZsH7AahFDcQ"
   },
   "source": [
    "* [Amazon Translate](https://aws.amazon.com/translate/?nc2=type_a)\n",
    "* Natural and accurate language translation"
   ]
  },
  {
   "cell_type": "code",
   "execution_count": 0,
   "metadata": {
    "colab": {
     "base_uri": "https://localhost:8080/",
     "height": 204
    },
    "colab_type": "code",
    "executionInfo": {
     "elapsed": 1062,
     "status": "ok",
     "timestamp": 1544490665493,
     "user": {
      "displayName": "Noah Gift",
      "photoUrl": "https://lh4.googleusercontent.com/-dTIpOULZLNo/AAAAAAAAAAI/AAAAAAAAFSA/_rU4zfumAAY/s64/photo.jpg",
      "userId": "07348815708884684945"
     },
     "user_tz": 480
    },
    "id": "rSv8zQ5Q69RW",
    "outputId": "a54ec069-ee0b-45a1-ddbe-36be027ca7d1"
   },
   "outputs": [
    {
     "data": {
      "text/plain": [
       "{'ResponseMetadata': {'HTTPHeaders': {'connection': 'keep-alive',\n",
       "   'content-length': '124',\n",
       "   'content-type': 'application/x-amz-json-1.1',\n",
       "   'date': 'Tue, 11 Dec 2018 01:11:05 GMT',\n",
       "   'x-amzn-requestid': 'a1dd350d-fce1-11e8-88f8-15e276ec8e51'},\n",
       "  'HTTPStatusCode': 200,\n",
       "  'RequestId': 'a1dd350d-fce1-11e8-88f8-15e276ec8e51',\n",
       "  'RetryAttempts': 0},\n",
       " 'SourceLanguageCode': 'es',\n",
       " 'TargetLanguageCode': 'en',\n",
       " 'TranslatedText': 'Hello, my name is Noah and I love machine learning.'}"
      ]
     },
     "execution_count": 25,
     "metadata": {
      "tags": []
     },
     "output_type": "execute_result"
    }
   ],
   "source": [
    "import boto3\n",
    "client = boto3.client('translate', region_name=\"us-east-1\")\n",
    "text = \"Hola, mi nombre es Noah y me encanta el aprendizaje automático.\"\n",
    "client.translate_text(Text=text,SourceLanguageCode=\"auto\", TargetLanguageCode=\"en\")\n"
   ]
  },
  {
   "cell_type": "markdown",
   "metadata": {
    "colab_type": "text",
    "id": "JO9KhxkxF0Xq"
   },
   "source": [
    "##### Transcribe"
   ]
  },
  {
   "cell_type": "markdown",
   "metadata": {
    "colab_type": "text",
    "id": "eDo_M92dF7ml"
   },
   "source": [
    "* [Amazon Transcribe](https://aws.amazon.com/transcribe/)\n",
    "* Automatic speech recognition\n",
    "* [Translate Tutorial](https://aws.amazon.com/getting-started/tutorials/create-audio-transcript-transcribe/)\n"
   ]
  },
  {
   "cell_type": "code",
   "execution_count": 0,
   "metadata": {
    "colab": {},
    "colab_type": "code",
    "collapsed": true,
    "id": "7gpcmdPg_PFt"
   },
   "outputs": [],
   "source": [
    "import boto3\n",
    "s3_path = \"https://s3.amazonaws.com/pai-transcribe/transcribe-sample.dac1d22492611d998262c8c856b98a74180a1a8f.mp3\""
   ]
  },
  {
   "cell_type": "markdown",
   "metadata": {
    "colab_type": "text",
    "id": "xHN6TRiwF3yf"
   },
   "source": [
    "##### Polly\n"
   ]
  },
  {
   "cell_type": "markdown",
   "metadata": {
    "colab_type": "text",
    "id": "WFmk44OLF8N8"
   },
   "source": [
    "* [Amazon Polly](https://aws.amazon.com/polly/)\n",
    "* Turns text into lifelike speech"
   ]
  }
 ],
 "metadata": {
  "colab": {
   "collapsed_sections": [
    "bq4VmHjPpMOR",
    "Kj977UW3rph_",
    "1Plkp_JsOq9Q",
    "a_Hn6rgoO_z6",
    "Zi90QSTFP09x",
    "BEnCuHS9dwrz",
    "VZDWHZqseWWv",
    "25Luji1Geomt",
    "1aXnAOugeo6U",
    "djWXK2seiNDW",
    "wHzy9ZUMgW75",
    "5F6qIpnTgdDb",
    "Tqf9CASngdxS",
    "5F7JuoWB9YMh",
    "nUiZr9xpzkqa",
    "ITlrgLKMzqHP",
    "7biG-GVVIGC6",
    "Afia2nad3Dfr",
    "YMSvoYJA6yhy",
    "2OgOsp_KCI9q",
    "5C5vF2VgCGRW",
    "WT2SdNwvCx-s"
   ],
   "name": "Lesson1-AWSML-Overview.ipynb",
   "provenance": [],
   "version": "0.3.2"
  },
  "kernelspec": {
   "display_name": "Python 3",
   "language": "python",
   "name": "python3"
  },
  "language_info": {
   "codemirror_mode": {
    "name": "ipython",
    "version": 3
   },
   "file_extension": ".py",
   "mimetype": "text/x-python",
   "name": "python",
   "nbconvert_exporter": "python",
   "pygments_lexer": "ipython3",
   "version": "3.6.3"
  }
 },
 "nbformat": 4,
 "nbformat_minor": 1
}
