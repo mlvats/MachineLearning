{
 "cells": [
  {
   "cell_type": "markdown",
   "metadata": {
    "colab_type": "text",
    "id": "okSLzwCiiiS-"
   },
   "source": [
    "# Lesson 2 Data Engineering for ML on AWS"
   ]
  },
  {
   "cell_type": "markdown",
   "metadata": {
    "colab_type": "text",
    "id": "bq4VmHjPpMOR"
   },
   "source": [
    "## Load AWS API Keys"
   ]
  },
  {
   "cell_type": "markdown",
   "metadata": {
    "colab_type": "text",
    "id": "aWrzIk7WpRoh"
   },
   "source": [
    "Put keys in local or remote GDrive:  \n",
    "\n",
    "`cp ~/.aws/credentials /Users/myname/Google\\ Drive/awsml/`"
   ]
  },
  {
   "cell_type": "markdown",
   "metadata": {
    "colab_type": "text",
    "id": "hPWO_zyRopXN"
   },
   "source": [
    "### Mount GDrive\n"
   ]
  },
  {
   "cell_type": "code",
   "execution_count": 0,
   "metadata": {
    "colab": {},
    "colab_type": "code",
    "collapsed": true,
    "id": "XI73HZNLobp4"
   },
   "outputs": [],
   "source": [
    "from google.colab import drive\n",
    "drive.mount('/content/gdrive', force_remount=True)"
   ]
  },
  {
   "cell_type": "code",
   "execution_count": 0,
   "metadata": {
    "colab": {},
    "colab_type": "code",
    "collapsed": true,
    "id": "UNyzZwgmoxwm"
   },
   "outputs": [],
   "source": [
    "import os;os.listdir(\"/content/gdrive/My Drive/awsml\")"
   ]
  },
  {
   "cell_type": "markdown",
   "metadata": {
    "colab_type": "text",
    "id": "fYu0ekUlqPk6"
   },
   "source": [
    "### Install Boto"
   ]
  },
  {
   "cell_type": "code",
   "execution_count": 0,
   "metadata": {
    "colab": {},
    "colab_type": "code",
    "collapsed": true,
    "id": "dJDDrUkWrYRY"
   },
   "outputs": [],
   "source": [
    "!pip -q install boto3\n"
   ]
  },
  {
   "cell_type": "markdown",
   "metadata": {
    "colab_type": "text",
    "id": "FpJhrpSQsK5E"
   },
   "source": [
    "### Create API Config"
   ]
  },
  {
   "cell_type": "code",
   "execution_count": 0,
   "metadata": {
    "colab": {},
    "colab_type": "code",
    "collapsed": true,
    "id": "QxRwGOZtsN0-"
   },
   "outputs": [],
   "source": [
    "!mkdir -p ~/.aws &&\\\n",
    "  cp /content/gdrive/My\\ Drive/awsml/credentials ~/.aws/credentials "
   ]
  },
  {
   "cell_type": "markdown",
   "metadata": {
    "colab_type": "text",
    "id": "Kj977UW3rph_"
   },
   "source": [
    "### Test Comprehend API Call"
   ]
  },
  {
   "cell_type": "code",
   "execution_count": 0,
   "metadata": {
    "colab": {},
    "colab_type": "code",
    "collapsed": true,
    "id": "P-A8Cia-raT0"
   },
   "outputs": [],
   "source": [
    "import boto3\n",
    "comprehend = boto3.client(service_name='comprehend', region_name=\"us-east-1\")\n",
    "text = \"There is smoke in San Francisco\"\n",
    "comprehend.detect_sentiment(Text=text, LanguageCode='en')"
   ]
  },
  {
   "cell_type": "markdown",
   "metadata": {
    "colab_type": "text",
    "id": "8oYv9z6P6Ukj"
   },
   "source": [
    "## 2.1 Data Ingestion Concepts"
   ]
  },
  {
   "cell_type": "markdown",
   "metadata": {
    "colab_type": "text",
    "id": "v7OC_Fh5QV9A"
   },
   "source": [
    "### Data Lakes"
   ]
  },
  {
   "cell_type": "markdown",
   "metadata": {
    "colab_type": "text",
    "id": "Nt6VTvFVQb-D"
   },
   "source": [
    "**Central Repository** for all data at any scale"
   ]
  },
  {
   "cell_type": "markdown",
   "metadata": {
    "colab_type": "text",
    "id": "8iyQzWR3amgh"
   },
   "source": [
    "![data_lake](https://user-images.githubusercontent.com/58792/49777724-8aef8300-fcb6-11e8-981e-96d14498a801.png)"
   ]
  },
  {
   "cell_type": "markdown",
   "metadata": {
    "colab_type": "text",
    "id": "DJxHWoBmcY_4"
   },
   "source": [
    "#### AWS Lake Formation"
   ]
  },
  {
   "cell_type": "markdown",
   "metadata": {
    "colab_type": "text",
    "id": "X5iz82w_dCJ_"
   },
   "source": [
    "* New Service Announced at Reinvent 2018\n",
    "* Build a secure lake in days...**not months**\n",
    "* Enforce security policies\n",
    "* Gain and manage insights"
   ]
  },
  {
   "cell_type": "markdown",
   "metadata": {
    "colab_type": "text",
    "id": "4GwDZDvXchGJ"
   },
   "source": [
    "![aws_lake](https://user-images.githubusercontent.com/58792/49777834-f9ccdc00-fcb6-11e8-84a0-7295a0c69a15.png)"
   ]
  },
  {
   "cell_type": "markdown",
   "metadata": {
    "colab_type": "text",
    "id": "c69G5pk8Dh7Z"
   },
   "source": [
    "### Kinesis (STREAMING)"
   ]
  },
  {
   "cell_type": "markdown",
   "metadata": {
    "colab_type": "text",
    "id": "GaH-jrqEIRtp"
   },
   "source": [
    "**Solves Three Key Problems**\n",
    "\n",
    "\n",
    "\n",
    "*   Time-series Analytics\n",
    "*   Real-time Dashboards\n",
    "*   Real-time Metrics\n",
    "\n"
   ]
  },
  {
   "cell_type": "markdown",
   "metadata": {
    "colab_type": "text",
    "id": "1skrZ0TuDpVq"
   },
   "source": [
    "#### Kinesis Analytics Workflow\n",
    "![Kinesis Analytics](https://user-images.githubusercontent.com/58792/49440264-02ce2280-f778-11e8-9d7e-149819e74807.png)"
   ]
  },
  {
   "cell_type": "markdown",
   "metadata": {
    "colab_type": "text",
    "id": "LYQ8rXU-Doab"
   },
   "source": [
    "#### Kinesis Real-Time Log Analytics Example\n",
    "\n",
    "![Real-Time Log Analytics](https://user-images.githubusercontent.com/58792/49440433-7cfea700-f778-11e8-8cd5-55999cb7713c.png)"
   ]
  },
  {
   "cell_type": "markdown",
   "metadata": {
    "colab_type": "text",
    "id": "LQIpSWC8HkO0"
   },
   "source": [
    "#### Kinesis Ad Tech Pipeline\n",
    "\n",
    "![Ad Tech Pipeline](https://user-images.githubusercontent.com/58792/49441021-285c2b80-f77a-11e8-82e2-da9006dc4c6d.png)"
   ]
  },
  {
   "cell_type": "markdown",
   "metadata": {
    "colab_type": "text",
    "id": "dBGcloLTH41z"
   },
   "source": [
    "#### Kinesis IoT\n",
    "\n",
    "![Kinesis IoT](https://user-images.githubusercontent.com/58792/49441101-5e011480-f77a-11e8-9727-4f7706361a08.png)"
   ]
  },
  {
   "cell_type": "markdown",
   "metadata": {
    "colab_type": "text",
    "id": "czV9D-QSIJGp"
   },
   "source": [
    "#### [Demo] Kinesis"
   ]
  },
  {
   "cell_type": "markdown",
   "metadata": {
    "colab_type": "text",
    "id": "Vq64AVvuILKx"
   },
   "source": []
  },
  {
   "cell_type": "markdown",
   "metadata": {
    "colab_type": "text",
    "id": "WESUX507e4jg"
   },
   "source": [
    "### AWS Batch (BATCH)"
   ]
  },
  {
   "cell_type": "markdown",
   "metadata": {
    "colab_type": "text",
    "id": "lk-T-dSsfHC0"
   },
   "source": [
    "Example could be Financial Service Trade Analysis"
   ]
  },
  {
   "cell_type": "markdown",
   "metadata": {
    "colab_type": "text",
    "id": "AQfrQvV7h2IA"
   },
   "source": [
    "![financial_services_trade](https://user-images.githubusercontent.com/58792/49778503-64334b80-fcba-11e8-85e7-dcdbfe473cd9.png)"
   ]
  },
  {
   "cell_type": "markdown",
   "metadata": {
    "colab_type": "text",
    "id": "bDlM65z5nM0i"
   },
   "source": [
    "#### Using AWS Batch for ML Jobs\n",
    "\n",
    "* *[Watch Video Lesson 11.6:  Use AWS Batch for ML Jobs](https://www.safaribooksonline.com/videos/essential-machine-learning/9780135261118/9780135261118-EMLA_01_11_06)*\n"
   ]
  },
  {
   "cell_type": "markdown",
   "metadata": {
    "colab_type": "text",
    "id": "gn6fah4M4Sa1"
   },
   "source": [
    "https://aws.amazon.com/batch/\n",
    "\n",
    "![alt text](https://d1.awsstatic.com/Test%20Images/Kate%20Test%20Images/Dilithium-Diagrams_Visual-Effects-Rendering.ad9c0479c3772c67953e96ef8ae76a5095373d81.png)\n",
    "\n",
    "\n",
    "Example submissions tool\n",
    "\n",
    "```python\n",
    "@cli.group()\n",
    "def run():\n",
    "    \"\"\"Run AWS Batch\"\"\"\n",
    "\n",
    "@run.command(\"submit\")\n",
    "@click.option(\"--queue\", default=\"first-run-job-queue\", help=\"Batch Queue\")\n",
    "@click.option(\"--jobname\", default=\"1\", help=\"Name of Job\")\n",
    "@click.option(\"--jobdef\", default=\"test\", help=\"Job Definition\")\n",
    "@click.option(\"--cmd\", default=[\"uname\"], help=\"Container Override Commands\")\n",
    "def submit(queue, jobname, jobdef, cmd):\n",
    "    \"\"\"Submit a job\"\"\"\n",
    "\n",
    "    result = submit_job(\n",
    "        job_name=jobname,\n",
    "        job_queue=queue,\n",
    "        job_definition=jobdef,\n",
    "        command=cmd\n",
    "    )\n",
    "    click.echo(\"CLI:  Run Job Called\")\n",
    "    return result\n",
    "```"
   ]
  },
  {
   "cell_type": "markdown",
   "metadata": {
    "colab_type": "text",
    "id": "ewIs7l_AptvW"
   },
   "source": [
    "### Lambda (EVENTS)"
   ]
  },
  {
   "cell_type": "markdown",
   "metadata": {
    "colab_type": "text",
    "id": "dX_F3p8ipyJu"
   },
   "source": [
    "\n",
    "* Serverless\n",
    "*   Used in most if not all ML Platforms\n",
    " - DeepLense\n",
    " - Sagemaker\n",
    " - S3 Events\n",
    "\n"
   ]
  },
  {
   "cell_type": "markdown",
   "metadata": {
    "colab_type": "text",
    "id": "PlVk0ly3m8SH"
   },
   "source": [
    "#### Starting development with AWS Python Lambda development with Chalice\n",
    "\n",
    "* *[Watch Video Lesson 11.3:  Use AWS Lambda development with Chalice](https://www.safaribooksonline.com/videos/essential-machine-learning/9780135261118/9780135261118-EMLA_01_11_03)*\n",
    "\n"
   ]
  },
  {
   "cell_type": "markdown",
   "metadata": {
    "colab_type": "text",
    "id": "RS4-D7b72XwE"
   },
   "source": [
    "***Demo on Sagemaker Terminal***\n",
    "\n",
    "https://github.com/aws/chalice\n",
    "\n",
    "*Hello World Example:*\n",
    "\n",
    "```python\n",
    "$ pip install chalice\n",
    "$ chalice new-project helloworld && cd helloworld\n",
    "$ cat app.py\n",
    "\n",
    "from chalice import Chalice\n",
    "\n",
    "app = Chalice(app_name=\"helloworld\")\n",
    "\n",
    "@app.route(\"/\")\n",
    "def index():\n",
    "    return {\"hello\": \"world\"}\n",
    "\n",
    "$ chalice deploy\n",
    "...\n",
    "https://endpoint/dev\n",
    "\n",
    "$ curl https://endpoint/api\n",
    "{\"hello\": \"world\"}\n",
    "```\n",
    "\n",
    "References:\n",
    "\n",
    "[Serverless Web Scraping Project](https://github.com/noahgift/web_scraping_python)"
   ]
  },
  {
   "cell_type": "markdown",
   "metadata": {
    "colab_type": "text",
    "id": "oWeNDZCtp6NP"
   },
   "source": [
    "#### [Demo] Deploying Hello World Lambda Function"
   ]
  },
  {
   "cell_type": "markdown",
   "metadata": {
    "colab_type": "text",
    "id": "N8HXfU4GqUcq"
   },
   "source": []
  },
  {
   "cell_type": "markdown",
   "metadata": {
    "colab_type": "text",
    "id": "Hc2I3g2xnH3Y"
   },
   "source": [
    "### Using Step functions with AWS\n",
    "\n",
    "* *[Watch Video Lesson 11.5:  Use AWS Step Functions](https://www.safaribooksonline.com/videos/essential-machine-learning/9780135261118/9780135261118-EMLA_01_11_05)*"
   ]
  },
  {
   "cell_type": "markdown",
   "metadata": {
    "colab_type": "text",
    "id": "316vRqUj3ELe"
   },
   "source": [
    "https://aws.amazon.com/step-functions/\n",
    "\n",
    "![Step Functions](https://d1.awsstatic.com/product-marketing/Step%20Functions/AmazonCloudWatchUpdated4.a57e968b08739e170aa504feed8db3761de21e60.png)\n",
    "\n",
    "Example Project:\n",
    "\n",
    "https://github.com/noahgift/web_scraping_python"
   ]
  },
  {
   "cell_type": "markdown",
   "metadata": {
    "colab_type": "text",
    "id": "rExHzr2wqYgy"
   },
   "source": [
    "[Demo] Step Function"
   ]
  },
  {
   "cell_type": "markdown",
   "metadata": {
    "colab_type": "text",
    "id": "AZ6JLteQ6wXO"
   },
   "source": [
    "## 2.2 Data Cleaning and Preparation"
   ]
  },
  {
   "cell_type": "markdown",
   "metadata": {
    "colab_type": "text",
    "id": "_x5EC-sO61UF"
   },
   "source": [
    "### Ensuring High Quality Data"
   ]
  },
  {
   "cell_type": "markdown",
   "metadata": {
    "colab_type": "text",
    "id": "SNLwvwMbJub7"
   },
   "source": [
    "\n",
    "\n",
    "*   Validity\n",
    "*   Accuracy\n",
    "*   Completeness\n",
    "*   Consistency\n",
    "*   Uniformity\n",
    "\n"
   ]
  },
  {
   "cell_type": "markdown",
   "metadata": {
    "colab_type": "text",
    "id": "wMDw-IEhAgT4"
   },
   "source": [
    "### Dealing with missing values\n",
    "\n",
    "Often easy way is to drop missing values\n"
   ]
  },
  {
   "cell_type": "code",
   "execution_count": 0,
   "metadata": {
    "colab": {
     "base_uri": "https://localhost:8080/",
     "height": 1071
    },
    "colab_type": "code",
    "executionInfo": {
     "elapsed": 3195,
     "status": "ok",
     "timestamp": 1544552614036,
     "user": {
      "displayName": "Noah Gift",
      "photoUrl": "https://lh4.googleusercontent.com/-dTIpOULZLNo/AAAAAAAAAAI/AAAAAAAAFSA/_rU4zfumAAY/s64/photo.jpg",
      "userId": "07348815708884684945"
     },
     "user_tz": 480
    },
    "id": "OiXVT6tfAw-9",
    "outputId": "f039f74a-f0c4-4266-b1e8-643592dbfffc"
   },
   "outputs": [
    {
     "data": {
      "text/plain": [
       "RegionID         1\n",
       "RegionName       1\n",
       "City             1\n",
       "State            1\n",
       "Metro         1140\n",
       "CountyName       1\n",
       "SizeRank         1\n",
       "1996-04       4440\n",
       "1996-05       4309\n",
       "1996-06       4285\n",
       "1996-07       4278\n",
       "1996-08       4265\n",
       "1996-09       4265\n",
       "1996-10       4265\n",
       "1996-11       4258\n",
       "1996-12       4258\n",
       "1997-01       4212\n",
       "1997-02       3588\n",
       "1997-03       3546\n",
       "1997-04       3546\n",
       "1997-05       3545\n",
       "1997-06       3543\n",
       "1997-07       3543\n",
       "1997-08       3357\n",
       "1997-09       3355\n",
       "1997-10       3353\n",
       "1997-11       3347\n",
       "1997-12       3341\n",
       "1998-01       3317\n",
       "1998-02       3073\n",
       "              ... \n",
       "2015-04         13\n",
       "2015-05          1\n",
       "2015-06          1\n",
       "2015-07          1\n",
       "2015-08          1\n",
       "2015-09          2\n",
       "2015-10          3\n",
       "2015-11          1\n",
       "2015-12          1\n",
       "2016-01          1\n",
       "2016-02         19\n",
       "2016-03         19\n",
       "2016-04         19\n",
       "2016-05         19\n",
       "2016-06          1\n",
       "2016-07          1\n",
       "2016-08          1\n",
       "2016-09          1\n",
       "2016-10          1\n",
       "2016-11          1\n",
       "2016-12         51\n",
       "2017-01          1\n",
       "2017-02          1\n",
       "2017-03          1\n",
       "2017-04          1\n",
       "2017-05          1\n",
       "2017-06          1\n",
       "2017-07          1\n",
       "2017-08          1\n",
       "2017-09          1\n",
       "Length: 265, dtype: int64"
      ]
     },
     "execution_count": 7,
     "metadata": {
      "tags": []
     },
     "output_type": "execute_result"
    }
   ],
   "source": [
    "import pandas as pd\n",
    "df = pd.read_csv(\"https://raw.githubusercontent.com/noahgift/real_estate_ml/master/data/Zip_Zhvi_SingleFamilyResidence.csv\")\n",
    "df.isnull().sum()"
   ]
  },
  {
   "cell_type": "code",
   "execution_count": 0,
   "metadata": {
    "colab": {
     "base_uri": "https://localhost:8080/",
     "height": 1071
    },
    "colab_type": "code",
    "executionInfo": {
     "elapsed": 479,
     "status": "ok",
     "timestamp": 1544552656064,
     "user": {
      "displayName": "Noah Gift",
      "photoUrl": "https://lh4.googleusercontent.com/-dTIpOULZLNo/AAAAAAAAAAI/AAAAAAAAFSA/_rU4zfumAAY/s64/photo.jpg",
      "userId": "07348815708884684945"
     },
     "user_tz": 480
    },
    "id": "UWY9zSOCB9LJ",
    "outputId": "79c39da1-7ab5-4b62-9012-649c00f0db5b"
   },
   "outputs": [
    {
     "data": {
      "text/plain": [
       "RegionID      0\n",
       "RegionName    0\n",
       "City          0\n",
       "State         0\n",
       "Metro         0\n",
       "CountyName    0\n",
       "SizeRank      0\n",
       "1996-04       0\n",
       "1996-05       0\n",
       "1996-06       0\n",
       "1996-07       0\n",
       "1996-08       0\n",
       "1996-09       0\n",
       "1996-10       0\n",
       "1996-11       0\n",
       "1996-12       0\n",
       "1997-01       0\n",
       "1997-02       0\n",
       "1997-03       0\n",
       "1997-04       0\n",
       "1997-05       0\n",
       "1997-06       0\n",
       "1997-07       0\n",
       "1997-08       0\n",
       "1997-09       0\n",
       "1997-10       0\n",
       "1997-11       0\n",
       "1997-12       0\n",
       "1998-01       0\n",
       "1998-02       0\n",
       "             ..\n",
       "2015-04       0\n",
       "2015-05       0\n",
       "2015-06       0\n",
       "2015-07       0\n",
       "2015-08       0\n",
       "2015-09       0\n",
       "2015-10       0\n",
       "2015-11       0\n",
       "2015-12       0\n",
       "2016-01       0\n",
       "2016-02       0\n",
       "2016-03       0\n",
       "2016-04       0\n",
       "2016-05       0\n",
       "2016-06       0\n",
       "2016-07       0\n",
       "2016-08       0\n",
       "2016-09       0\n",
       "2016-10       0\n",
       "2016-11       0\n",
       "2016-12       0\n",
       "2017-01       0\n",
       "2017-02       0\n",
       "2017-03       0\n",
       "2017-04       0\n",
       "2017-05       0\n",
       "2017-06       0\n",
       "2017-07       0\n",
       "2017-08       0\n",
       "2017-09       0\n",
       "Length: 265, dtype: int64"
      ]
     },
     "execution_count": 8,
     "metadata": {
      "tags": []
     },
     "output_type": "execute_result"
    }
   ],
   "source": [
    "df2 = df.dropna()\n",
    "df2.isnull().sum()"
   ]
  },
  {
   "cell_type": "markdown",
   "metadata": {
    "colab_type": "text",
    "id": "DFVk5GQ-CaZN"
   },
   "source": []
  },
  {
   "cell_type": "markdown",
   "metadata": {
    "colab_type": "text",
    "id": "yo0I3xoETEpQ"
   },
   "source": [
    "### Cleaning Wikipedia Handle Example"
   ]
  },
  {
   "cell_type": "markdown",
   "metadata": {
    "colab_type": "text",
    "id": "r3iyGrpYTJbe"
   },
   "source": [
    "\n",
    "\n",
    "```python\n",
    "\"\"\"\n",
    "Example Route To Construct:\n",
    "https://wikimedia.org/api/rest_v1/ +\n",
    "metrics/pageviews/per-article/ +\n",
    "en.wikipedia/all-access/user/ +\n",
    "LeBron_James/daily/2015070100/2017070500 +\n",
    "\"\"\"\n",
    "import requests\n",
    "import pandas as pd\n",
    "import time\n",
    "import wikipedia\n",
    "\n",
    "BASE_URL =\\\n",
    " \"https://wikimedia.org/api/rest_v1/metrics/pageviews/per-article/en.wikipedia/all-access/user\"\n",
    "\n",
    "def construct_url(handle, period, start, end):\n",
    "    \"\"\"Constructs a URL based on arguments\n",
    "    Should construct the following URL:\n",
    "    /LeBron_James/daily/2015070100/2017070500 \n",
    "    \"\"\"\n",
    "\n",
    "    \n",
    "    urls  = [BASE_URL, handle, period, start, end]\n",
    "    constructed = str.join('/', urls)\n",
    "    return constructed\n",
    "\n",
    "def query_wikipedia_pageviews(url):\n",
    "\n",
    "    res = requests.get(url)\n",
    "    return res.json()\n",
    "\n",
    "def wikipedia_pageviews(handle, period, start, end):\n",
    "    \"\"\"Returns JSON\"\"\"\n",
    "\n",
    "    constructed_url = construct_url(handle, period, start,end)\n",
    "    pageviews = query_wikipedia_pageviews(url=constructed_url)\n",
    "    return pageviews\n",
    "\n",
    "def wikipedia_2016(handle,sleep=0):\n",
    "    \"\"\"Retrieve pageviews for 2016\"\"\" \n",
    "    \n",
    "    print(\"SLEEP: {sleep}\".format(sleep=sleep))\n",
    "    time.sleep(sleep)\n",
    "    pageviews = wikipedia_pageviews(handle=handle, \n",
    "            period=\"daily\", start=\"2016010100\", end=\"2016123100\")\n",
    "    if not 'items' in pageviews:\n",
    "        print(\"NO PAGEVIEWS: {handle}\".format(handle=handle))\n",
    "        return None\n",
    "    return pageviews\n",
    "\n",
    "def create_wikipedia_df(handles):\n",
    "    \"\"\"Creates a Dataframe of Pageviews\"\"\"\n",
    "\n",
    "    pageviews = []\n",
    "    timestamps = []    \n",
    "    names = []\n",
    "    wikipedia_handles = []\n",
    "    for name, handle in handles.items():\n",
    "        pageviews_record = wikipedia_2016(handle)\n",
    "        if pageviews_record is None:\n",
    "            continue\n",
    "        for record in pageviews_record['items']:\n",
    "            pageviews.append(record['views'])\n",
    "            timestamps.append(record['timestamp'])\n",
    "            names.append(name)\n",
    "            wikipedia_handles.append(handle)\n",
    "    data = {\n",
    "        \"names\": names,\n",
    "        \"wikipedia_handles\": wikipedia_handles,\n",
    "        \"pageviews\": pageviews,\n",
    "        \"timestamps\": timestamps \n",
    "    }\n",
    "    df = pd.DataFrame(data)\n",
    "    return df    \n",
    "\n",
    "\n",
    "def create_wikipedia_handle(raw_handle):\n",
    "    \"\"\"Takes a raw handle and converts it to a wikipedia handle\"\"\"\n",
    "\n",
    "    wikipedia_handle = raw_handle.replace(\" \", \"_\")\n",
    "    return wikipedia_handle\n",
    "\n",
    "def create_wikipedia_nba_handle(name):\n",
    "    \"\"\"Appends basketball to link\"\"\"\n",
    "\n",
    "    url = \" \".join([name, \"(basketball)\"])\n",
    "    return url\n",
    "\n",
    "def wikipedia_current_nba_roster():\n",
    "    \"\"\"Gets all links on wikipedia current roster page\"\"\"\n",
    "\n",
    "    links = {}\n",
    "    nba = wikipedia.page(\"List_of_current_NBA_team_rosters\")\n",
    "    for link in nba.links:\n",
    "        links[link] = create_wikipedia_handle(link)\n",
    "    return links\n",
    "\n",
    "def guess_wikipedia_nba_handle(data=\"data/nba_2017_br.csv\"):\n",
    "    \"\"\"Attempt to get the correct wikipedia handle\"\"\"\n",
    "\n",
    "    links = wikipedia_current_nba_roster() \n",
    "    nba = pd.read_csv(data)\n",
    "    count = 0\n",
    "    verified = {}\n",
    "    guesses = {}\n",
    "    for player in nba[\"Player\"].values:\n",
    "        if player in links:\n",
    "            print(\"Player: {player}, Link: {link} \".format(player=player,\n",
    "                 link=links[player]))\n",
    "            print(count)\n",
    "            count += 1\n",
    "            verified[player] = links[player] #add wikipedia link\n",
    "        else:\n",
    "            print(\"NO MATCH: {player}\".format(player=player))\n",
    "            guesses[player] = create_wikipedia_handle(player)\n",
    "    return verified, guesses\n",
    "\n",
    "def validate_wikipedia_guesses(guesses):\n",
    "    \"\"\"Validate guessed wikipedia accounts\"\"\"\n",
    "\n",
    "    verified = {}\n",
    "    wrong = {}\n",
    "    for name, link in guesses.items():\n",
    "        try:\n",
    "            page = wikipedia.page(link)\n",
    "        except (wikipedia.DisambiguationError, wikipedia.PageError) as error:\n",
    "            #try basketball suffix\n",
    "            nba_handle = create_wikipedia_nba_handle(name)\n",
    "            try:\n",
    "                page = wikipedia.page(nba_handle)\n",
    "                print(\"Initial wikipedia URL Failed: {error}\".format(error=error))\n",
    "            except (wikipedia.DisambiguationError, wikipedia.PageError) as error:\n",
    "                print(\"Second Match Failure: {error}\".format(error=error))\n",
    "                wrong[name] = link\n",
    "                continue\n",
    "        if \"NBA\" in page.summary:\n",
    "            verified[name] = link\n",
    "        else:\n",
    "            print(\"NO GUESS MATCH: {name}\".format(name=name))\n",
    "            wrong[name] = link\n",
    "    return verified, wrong\n",
    "\n",
    "def clean_wikipedia_handles(data=\"data/nba_2017_br.csv\"):\n",
    "    \"\"\"Clean Handles\"\"\"\n",
    "\n",
    "    verified, guesses = guess_wikipedia_nba_handle(data=data)\n",
    "    verified_cleaned, wrong = validate_wikipedia_guesses(guesses)\n",
    "    print(\"WRONG Matches: {wrong}\".format(wrong=wrong))\n",
    "    handles = {**verified, **verified_cleaned}\n",
    "    return handles\n",
    "\n",
    "def nba_wikipedia_dataframe(data=\"data/nba_2017_br.csv\"):\n",
    "    handles = clean_wikipedia_handles(data=data)\n",
    "    df = create_wikipedia_df(handles)    \n",
    "    return df\n",
    "\n",
    "def create_wikipedia_csv(data=\"data/nba_2017_br.csv\"):\n",
    "    df = nba_wikipedia_dataframe(data=data)\n",
    "    df.to_csv(\"data/wikipedia_nba.csv\")\n",
    "\n",
    "\n",
    "if __name__ == \"__main__\":\n",
    "    create_wikipedia_csv() \n",
    "```\n",
    "\n"
   ]
  },
  {
   "cell_type": "markdown",
   "metadata": {
    "colab_type": "text",
    "id": "SNpJZKlHJ-_A"
   },
   "source": [
    "### Related AWS Services"
   ]
  },
  {
   "cell_type": "markdown",
   "metadata": {
    "colab_type": "text",
    "id": "Gb0fhTgMKqvs"
   },
   "source": [
    "These services could all help prepare and clean data\n",
    "\n",
    "\n",
    "*   AWS Glue\n",
    "*   AWS Machine Learning\n",
    "*   AWS Kinesis\n",
    "*   AWS Lambda\n",
    "*   AWS Sagemaker\n",
    "\n"
   ]
  },
  {
   "cell_type": "markdown",
   "metadata": {
    "colab_type": "text",
    "id": "pNkmKQ6m627N"
   },
   "source": [
    "## 2.3 Data Storage Concepts"
   ]
  },
  {
   "cell_type": "markdown",
   "metadata": {
    "colab_type": "text",
    "id": "fYH_66i97RoN"
   },
   "source": [
    "### Database Overview\n",
    "\n"
   ]
  },
  {
   "cell_type": "markdown",
   "metadata": {
    "colab_type": "text",
    "id": "DHXy69aAJbDn"
   },
   "source": [
    "![Database Styles](https://user-images.githubusercontent.com/58792/48925585-2214a800-ee7a-11e8-8546-767177679328.png)\n",
    "\n",
    "* [One size database doesn't fit anyone](https://www.allthingsdistributed.com/2018/06/purpose-built-databases-in-aws.html)"
   ]
  },
  {
   "cell_type": "markdown",
   "metadata": {
    "colab_type": "text",
    "id": "q7B3KpSfnCYo"
   },
   "source": [
    "### Using AWS DynamoDB\n",
    "\n",
    "* *[Watch Video Lesson 11.4:  Use AWS DynamoDB](https://www.safaribooksonline.com/videos/essential-machine-learning/9780135261118/9780135261118-EMLA_01_11_04)*"
   ]
  },
  {
   "cell_type": "markdown",
   "metadata": {
    "colab_type": "text",
    "id": "2cheDvcB2x02"
   },
   "source": [
    "https://aws.amazon.com/dynamodb/\n",
    "\n",
    "![alt text](https://d1.awsstatic.com/video-thumbs/dynamodb/AWS-online-games-wide.ada4247744e9be9a6d857b2e13b7eb78b18bf3a5.png)\n",
    "\n",
    "Query Example:\n",
    "\n",
    "```python\n",
    "def query_police_department_record_by_guid(guid):\n",
    "    \"\"\"Gets one record in the PD table by guid\n",
    "    \n",
    "    In [5]: rec = query_police_department_record_by_guid(\n",
    "        \"7e607b82-9e18-49dc-a9d7-e9628a9147ad\"\n",
    "        )\n",
    "    \n",
    "    In [7]: rec\n",
    "    Out[7]: \n",
    "    {'PoliceDepartmentName': 'Hollister',\n",
    "     'UpdateTime': 'Fri Mar  2 12:43:43 2018',\n",
    "     'guid': '7e607b82-9e18-49dc-a9d7-e9628a9147ad'}\n",
    "    \"\"\"\n",
    "    \n",
    "    db = dynamodb_resource()\n",
    "    extra_msg = {\"region_name\": REGION, \"aws_service\": \"dynamodb\", \n",
    "        \"police_department_table\":POLICE_DEPARTMENTS_TABLE,\n",
    "        \"guid\":guid}\n",
    "    log.info(f\"Get PD record by GUID\", extra=extra_msg)\n",
    "    pd_table = db.Table(POLICE_DEPARTMENTS_TABLE)\n",
    "    response = pd_table.get_item(\n",
    "        Key={\n",
    "            'guid': guid\n",
    "            }\n",
    "    )\n",
    "    return response['Item']\n",
    "```\n"
   ]
  },
  {
   "cell_type": "markdown",
   "metadata": {
    "colab_type": "text",
    "id": "gUMlly9JFYQ9"
   },
   "source": [
    "#### [Demo] DynamoDB"
   ]
  },
  {
   "cell_type": "markdown",
   "metadata": {
    "colab_type": "text",
    "id": "G1SgzvGTFcCY"
   },
   "source": []
  },
  {
   "cell_type": "markdown",
   "metadata": {
    "colab_type": "text",
    "id": "Skhxh0LhFjp9"
   },
   "source": [
    "### Redshift"
   ]
  },
  {
   "cell_type": "markdown",
   "metadata": {
    "colab_type": "text",
    "id": "X357SPI1FpHx"
   },
   "source": [
    "* Data Warehouse Solution for AWS\n",
    "* Column Data Store (Great at counting large data)"
   ]
  },
  {
   "cell_type": "markdown",
   "metadata": {
    "colab_type": "text",
    "id": "AUbie4x-7JXM"
   },
   "source": [
    "## 2.4 Learn ETL Solutions (Extract-Transform-Load)"
   ]
  },
  {
   "cell_type": "markdown",
   "metadata": {
    "colab_type": "text",
    "id": "6t1wD_-57Q3t"
   },
   "source": [
    "### AWS Glue"
   ]
  },
  {
   "cell_type": "markdown",
   "metadata": {
    "colab_type": "text",
    "id": "u8jPN7MZLIsn"
   },
   "source": [
    "#### AWS Glue is fully managed ETL Service\n",
    "\n",
    "![AWS Glue Screen](https://user-images.githubusercontent.com/58792/49441953-dff23d00-f77c-11e8-9065-dab53c47c345.png)"
   ]
  },
  {
   "cell_type": "markdown",
   "metadata": {
    "colab_type": "text",
    "id": "qZkC2QC-MRiS"
   },
   "source": [
    "#### AWS Glue Workflow"
   ]
  },
  {
   "cell_type": "markdown",
   "metadata": {
    "colab_type": "text",
    "id": "GuJTGk5GMbZn"
   },
   "source": [
    "\n",
    "\n",
    "*   Build Data Catalog\n",
    "*   Generate and Edit Transformations\n",
    "*   Schedule and Run Jobs\n",
    "\n"
   ]
  },
  {
   "cell_type": "markdown",
   "metadata": {
    "colab_type": "text",
    "id": "VdheVbrOeWxk"
   },
   "source": [
    "#### [DEMO] AWS Glue"
   ]
  },
  {
   "cell_type": "markdown",
   "metadata": {
    "colab_type": "text",
    "id": "XGLxtZlrebR0"
   },
   "source": []
  },
  {
   "cell_type": "markdown",
   "metadata": {
    "colab_type": "text",
    "id": "y8fseYaIeVPX"
   },
   "source": [
    "### EMR"
   ]
  },
  {
   "cell_type": "markdown",
   "metadata": {
    "colab_type": "text",
    "id": "6uzJV6gpk-7P"
   },
   "source": [
    "* Can be used for large scale distributed data jobs"
   ]
  },
  {
   "cell_type": "markdown",
   "metadata": {
    "colab_type": "text",
    "id": "lR42AyxvlNTn"
   },
   "source": [
    "### Athena"
   ]
  },
  {
   "cell_type": "markdown",
   "metadata": {
    "colab_type": "text",
    "id": "n2-VhYhUlYWH"
   },
   "source": [
    "* Can replace many ETL\n",
    "* Serverless\n",
    "* Built on Presto w/ SQL Support\n",
    "* Meant to query Data Lake"
   ]
  },
  {
   "cell_type": "markdown",
   "metadata": {
    "colab_type": "text",
    "id": "xUbJmruLldUe"
   },
   "source": [
    "#### [DEMO] Athena"
   ]
  },
  {
   "cell_type": "markdown",
   "metadata": {
    "colab_type": "text",
    "id": "-cI7gQxxlgFg"
   },
   "source": []
  },
  {
   "cell_type": "markdown",
   "metadata": {
    "colab_type": "text",
    "id": "h8y_QAAElsY1"
   },
   "source": [
    "### Data Pipeline"
   ]
  },
  {
   "cell_type": "markdown",
   "metadata": {
    "colab_type": "text",
    "id": "gf_jQMNLl5yv"
   },
   "source": [
    "*  create complex data processing workloads that are fault tolerant, repeatable, and highly available"
   ]
  },
  {
   "cell_type": "markdown",
   "metadata": {
    "colab_type": "text",
    "id": "oA0ECumOmBLz"
   },
   "source": [
    "#### [Demo] Data Pipeline"
   ]
  },
  {
   "cell_type": "markdown",
   "metadata": {
    "colab_type": "text",
    "id": "gmsXNAT-mElm"
   },
   "source": []
  },
  {
   "cell_type": "markdown",
   "metadata": {
    "colab_type": "text",
    "id": "6fhL7WGJ7Scv"
   },
   "source": [
    "## 2.5 Batch vs Streaming Data"
   ]
  },
  {
   "cell_type": "markdown",
   "metadata": {
    "colab_type": "text",
    "id": "5U8QWB0mEH7m"
   },
   "source": [
    "### Impact on ML Pipeline"
   ]
  },
  {
   "cell_type": "markdown",
   "metadata": {
    "colab_type": "text",
    "id": "qxGzIx74EK0W"
   },
   "source": [
    "* More control of model training in batch (can decide when to retrain)\n",
    "* Continuously retraining model could provide better prediction results or worse results\n",
    " - Did input stream suddenly get more users or less users?\n",
    " - Is there an A/B testing scenario?"
   ]
  },
  {
   "cell_type": "markdown",
   "metadata": {
    "colab_type": "text",
    "id": "iG_FBgbY6vqH"
   },
   "source": [
    "### Batch"
   ]
  },
  {
   "cell_type": "markdown",
   "metadata": {
    "colab_type": "text",
    "id": "wdJonIVdAfaw"
   },
   "source": [
    "*   Data is batched at intervals\n",
    "*   Simplest approach to create predictions\n",
    "*   Many Services on AWS Capable of Batch Processing\n",
    " - AWS Glue\n",
    " - AWS Data Pipeline\n",
    " - AWS Batch\n",
    " - EMR\n",
    "\n",
    "\n",
    "\n"
   ]
  },
  {
   "cell_type": "markdown",
   "metadata": {
    "colab_type": "text",
    "id": "M22l9fGmApsu"
   },
   "source": [
    "### Streaming\n"
   ]
  },
  {
   "cell_type": "markdown",
   "metadata": {
    "colab_type": "text",
    "id": "UsVFF-9NAr-H"
   },
   "source": [
    "* Continously polled or pushed\n",
    "* More complex method of prediction\n",
    "* Many Services on AWS Capable of Streaming\n",
    " - Kinesis\n",
    " - IoT"
   ]
  },
  {
   "cell_type": "markdown",
   "metadata": {
    "colab_type": "text",
    "id": "qe8SKDDv7Y6D"
   },
   "source": [
    "## 2.6 Data Security"
   ]
  },
  {
   "cell_type": "markdown",
   "metadata": {
    "colab_type": "text",
    "id": "h6HlzS687ZOF"
   },
   "source": [
    "### AWS KMS (Key Management Service)"
   ]
  },
  {
   "cell_type": "markdown",
   "metadata": {
    "colab_type": "text",
    "id": "N9vq6t5qPjzK"
   },
   "source": [
    "\n",
    "\n",
    "*   Integrated with AWS Encryption SDK\n",
    "*   CloudTrail gives independent view of who accessed encrypted data\n",
    "\n"
   ]
  },
  {
   "cell_type": "markdown",
   "metadata": {
    "colab_type": "text",
    "id": "FGeYIIyfilcU"
   },
   "source": [
    "### AWS CloudTrail"
   ]
  },
  {
   "cell_type": "markdown",
   "metadata": {
    "colab_type": "text",
    "id": "s5MYRh_JAL2H"
   },
   "source": [
    "![cloud_trail](https://user-images.githubusercontent.com/58792/49812752-f834ff80-fd1a-11e8-9ad6-bafa8e1b0779.png)"
   ]
  },
  {
   "cell_type": "markdown",
   "metadata": {
    "colab_type": "text",
    "id": "1PXzeAzY_FO6"
   },
   "source": [
    "\n",
    "\n",
    "*  enables governance, compliance, operational auditing\n",
    "*  visibility into user and resource activity\n",
    "*  security analysis and troubleshooting\n",
    "\n",
    "\n"
   ]
  },
  {
   "cell_type": "markdown",
   "metadata": {
    "colab_type": "text",
    "id": "qJrkb72JioOs"
   },
   "source": [
    "#### [Demo] Cloud Trail"
   ]
  },
  {
   "cell_type": "markdown",
   "metadata": {
    "colab_type": "text",
    "id": "xEnGV9o9isvZ"
   },
   "source": []
  },
  {
   "cell_type": "markdown",
   "metadata": {
    "colab_type": "text",
    "id": "hIOu8DEbsjPi"
   },
   "source": [
    "### Other Aspects"
   ]
  },
  {
   "cell_type": "markdown",
   "metadata": {
    "colab_type": "text",
    "id": "VOpNTb9LsmnI"
   },
   "source": [
    "* IAM Roles\n",
    "* Security Groups\n",
    "* VPC"
   ]
  },
  {
   "cell_type": "markdown",
   "metadata": {
    "colab_type": "text",
    "id": "hLqAX6oR8gUD"
   },
   "source": [
    "## 2.7 Data Backup and Recovery"
   ]
  },
  {
   "cell_type": "markdown",
   "metadata": {
    "colab_type": "text",
    "id": "lhDdV7ydTyas"
   },
   "source": [
    "### Most AWS Services Have Snapshot and Backup Capabilities"
   ]
  },
  {
   "cell_type": "markdown",
   "metadata": {
    "colab_type": "text",
    "id": "jYC5kQUDT5Ti"
   },
   "source": [
    "* RDS\n",
    "* S3\n",
    "* DynamoDB"
   ]
  },
  {
   "cell_type": "markdown",
   "metadata": {
    "colab_type": "text",
    "id": "_E5UUskr8jWc"
   },
   "source": [
    "### S3 Backup and Recovery\n"
   ]
  },
  {
   "cell_type": "markdown",
   "metadata": {
    "colab_type": "text",
    "id": "l-_pBmYsQ33O"
   },
   "source": [
    "* S3 Snapshots\n",
    "* Amazon Glacier archive"
   ]
  },
  {
   "cell_type": "markdown",
   "metadata": {
    "colab_type": "text",
    "id": "WKxr2MTcigL7"
   },
   "source": [
    "### [Demo] S3 Snapshot Demo\n"
   ]
  },
  {
   "cell_type": "markdown",
   "metadata": {
    "colab_type": "text",
    "id": "xsd2w7XjijOL"
   },
   "source": []
  },
  {
   "cell_type": "code",
   "execution_count": 0,
   "metadata": {
    "colab": {},
    "colab_type": "code",
    "collapsed": true,
    "id": "MJyRBDb9RdVZ"
   },
   "outputs": [],
   "source": []
  }
 ],
 "metadata": {
  "colab": {
   "name": "Lesson2-AWSML-Data-Engineering.ipynb",
   "provenance": [],
   "version": "0.3.2"
  },
  "kernelspec": {
   "display_name": "Python 3",
   "language": "python",
   "name": "python3"
  },
  "language_info": {
   "codemirror_mode": {
    "name": "ipython",
    "version": 3
   },
   "file_extension": ".py",
   "mimetype": "text/x-python",
   "name": "python",
   "nbconvert_exporter": "python",
   "pygments_lexer": "ipython3",
   "version": "3.6.3"
  }
 },
 "nbformat": 4,
 "nbformat_minor": 1
}
