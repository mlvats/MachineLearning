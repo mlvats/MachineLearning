{
 "cells": [
  {
   "cell_type": "markdown",
   "metadata": {
    "colab_type": "text",
    "id": "iwV-bBLUtTQu"
   },
   "source": [
    "# Lesson 4 Machine Learning Modeling on AWS"
   ]
  },
  {
   "cell_type": "markdown",
   "metadata": {
    "colab_type": "text",
    "id": "bq4VmHjPpMOR"
   },
   "source": [
    "## Load AWS API Keys"
   ]
  },
  {
   "cell_type": "markdown",
   "metadata": {
    "colab_type": "text",
    "id": "aWrzIk7WpRoh"
   },
   "source": [
    "Put keys in local or remote GDrive:  \n",
    "\n",
    "`cp ~/.aws/credentials /Users/myname/Google\\ Drive/awsml/`"
   ]
  },
  {
   "cell_type": "markdown",
   "metadata": {
    "colab_type": "text",
    "id": "hPWO_zyRopXN"
   },
   "source": [
    "### Mount GDrive\n"
   ]
  },
  {
   "cell_type": "code",
   "execution_count": 0,
   "metadata": {
    "colab": {
     "base_uri": "https://localhost:8080/",
     "height": 34
    },
    "colab_type": "code",
    "executionInfo": {
     "elapsed": 5183,
     "status": "ok",
     "timestamp": 1542845329674,
     "user": {
      "displayName": "Noah Gift",
      "photoUrl": "https://lh4.googleusercontent.com/-dTIpOULZLNo/AAAAAAAAAAI/AAAAAAAAFSA/_rU4zfumAAY/s64/photo.jpg",
      "userId": "07348815708884684945"
     },
     "user_tz": 480
    },
    "id": "XI73HZNLobp4",
    "outputId": "66f597a9-6c94-4ffd-b323-21869a4eb988"
   },
   "outputs": [
    {
     "name": "stdout",
     "output_type": "stream",
     "text": [
      "Mounted at /content/gdrive\n"
     ]
    }
   ],
   "source": [
    "from google.colab import drive\n",
    "drive.mount('/content/gdrive', force_remount=True)"
   ]
  },
  {
   "cell_type": "code",
   "execution_count": 0,
   "metadata": {
    "colab": {
     "base_uri": "https://localhost:8080/",
     "height": 34
    },
    "colab_type": "code",
    "executionInfo": {
     "elapsed": 418,
     "status": "ok",
     "timestamp": 1542845200185,
     "user": {
      "displayName": "Noah Gift",
      "photoUrl": "https://lh4.googleusercontent.com/-dTIpOULZLNo/AAAAAAAAAAI/AAAAAAAAFSA/_rU4zfumAAY/s64/photo.jpg",
      "userId": "07348815708884684945"
     },
     "user_tz": 480
    },
    "id": "UNyzZwgmoxwm",
    "outputId": "80a98691-3926-4666-82c7-f27f606fbfaf"
   },
   "outputs": [
    {
     "data": {
      "text/plain": [
       "['kaggle.json', 'credentials', 'config']"
      ]
     },
     "execution_count": 27,
     "metadata": {
      "tags": []
     },
     "output_type": "execute_result"
    }
   ],
   "source": [
    "import os;os.listdir(\"/content/gdrive/My Drive/awsml\")"
   ]
  },
  {
   "cell_type": "markdown",
   "metadata": {
    "colab_type": "text",
    "id": "fYu0ekUlqPk6"
   },
   "source": [
    "### Install Boto"
   ]
  },
  {
   "cell_type": "code",
   "execution_count": 0,
   "metadata": {
    "colab": {},
    "colab_type": "code",
    "collapsed": true,
    "id": "dJDDrUkWrYRY"
   },
   "outputs": [],
   "source": [
    "!pip -q install boto3\n"
   ]
  },
  {
   "cell_type": "markdown",
   "metadata": {
    "colab_type": "text",
    "id": "FpJhrpSQsK5E"
   },
   "source": [
    "### Create API Config"
   ]
  },
  {
   "cell_type": "code",
   "execution_count": 0,
   "metadata": {
    "colab": {},
    "colab_type": "code",
    "collapsed": true,
    "id": "QxRwGOZtsN0-"
   },
   "outputs": [],
   "source": [
    "!mkdir -p ~/.aws &&\\\n",
    "  cp /content/gdrive/My\\ Drive/awsml/credentials ~/.aws/credentials "
   ]
  },
  {
   "cell_type": "markdown",
   "metadata": {
    "colab_type": "text",
    "id": "Kj977UW3rph_"
   },
   "source": [
    "### Test Comprehend API Call"
   ]
  },
  {
   "cell_type": "code",
   "execution_count": 0,
   "metadata": {
    "colab": {
     "base_uri": "https://localhost:8080/",
     "height": 238
    },
    "colab_type": "code",
    "executionInfo": {
     "elapsed": 547,
     "status": "ok",
     "timestamp": 1542846114579,
     "user": {
      "displayName": "Noah Gift",
      "photoUrl": "https://lh4.googleusercontent.com/-dTIpOULZLNo/AAAAAAAAAAI/AAAAAAAAFSA/_rU4zfumAAY/s64/photo.jpg",
      "userId": "07348815708884684945"
     },
     "user_tz": 480
    },
    "id": "P-A8Cia-raT0",
    "outputId": "4290a9a8-667f-4b06-edf3-aa4c2ae121f2"
   },
   "outputs": [
    {
     "data": {
      "text/plain": [
       "{'ResponseMetadata': {'HTTPHeaders': {'connection': 'keep-alive',\n",
       "   'content-length': '160',\n",
       "   'content-type': 'application/x-amz-json-1.1',\n",
       "   'date': 'Thu, 22 Nov 2018 00:21:54 GMT',\n",
       "   'x-amzn-requestid': '9d69a0a9-edec-11e8-8560-532dc7aa62ea'},\n",
       "  'HTTPStatusCode': 200,\n",
       "  'RequestId': '9d69a0a9-edec-11e8-8560-532dc7aa62ea',\n",
       "  'RetryAttempts': 0},\n",
       " 'Sentiment': 'NEUTRAL',\n",
       " 'SentimentScore': {'Mixed': 0.008628507144749165,\n",
       "  'Negative': 0.1037612184882164,\n",
       "  'Neutral': 0.8582549691200256,\n",
       "  'Positive': 0.0293553676456213}}"
      ]
     },
     "execution_count": 50,
     "metadata": {
      "tags": []
     },
     "output_type": "execute_result"
    }
   ],
   "source": [
    "import boto3\n",
    "comprehend = boto3.client(service_name='comprehend', region_name=\"us-east-1\")\n",
    "text = \"There is smoke in San Francisco\"\n",
    "comprehend.detect_sentiment(Text=text, LanguageCode='en')"
   ]
  },
  {
   "cell_type": "markdown",
   "metadata": {
    "colab_type": "text",
    "id": "EBv9LzI9xnrF"
   },
   "source": [
    "## 4.1 AWS ML Systems Overview"
   ]
  },
  {
   "cell_type": "markdown",
   "metadata": {
    "colab_type": "text",
    "id": "Qu_UeD92AEPB"
   },
   "source": [
    "### Machine Learning at AWS"
   ]
  },
  {
   "cell_type": "markdown",
   "metadata": {
    "colab_type": "text",
    "id": "xCsczQCqAJBR"
   },
   "source": [
    "\n",
    "* [AWS ML Services Video](https://www.aws.training/learningobject/video?id=16207&trk=gs_card)\n",
    "* [AWS Machine Learning Overview Video](https://www.aws.training/learningobject/video?id=16363&trk=gs_card)\n",
    "\n",
    "* Thousands of Engineers working on Machine Learning at AWS\n"
   ]
  },
  {
   "cell_type": "markdown",
   "metadata": {
    "colab_type": "text",
    "id": "SDAq-AnzLNHW"
   },
   "source": [
    "#### What is Machine Learning?"
   ]
  },
  {
   "cell_type": "markdown",
   "metadata": {
    "colab_type": "text",
    "id": "6t1mMbl8LQsz"
   },
   "source": [
    "![aiml](https://user-images.githubusercontent.com/58792/48925854-4de55d00-ee7d-11e8-8656-f92b2a2d3aed.png)\n",
    "\n",
    "*   Subset of AI\n",
    "*   Deep Learning is subset of Machine Learning\n",
    "\n"
   ]
  },
  {
   "cell_type": "markdown",
   "metadata": {
    "colab_type": "text",
    "id": "seXc9BlVLZpz"
   },
   "source": [
    "#### What can Machine Learning Do?\n",
    "\n"
   ]
  },
  {
   "cell_type": "markdown",
   "metadata": {
    "colab_type": "text",
    "id": "iVsOZlTDOeAM"
   },
   "source": [
    "* Make predictions\n",
    "* Optimize utility functions\n",
    "* Extract hidden data structures\n",
    "* Classify data"
   ]
  },
  {
   "cell_type": "markdown",
   "metadata": {
    "colab_type": "text",
    "id": "mXxBpaedOfvv"
   },
   "source": [
    "#### Machine Learning Use Cases"
   ]
  },
  {
   "cell_type": "markdown",
   "metadata": {
    "colab_type": "text",
    "id": "HWCc2hTbOf2p"
   },
   "source": [
    "##### Fraud Detection\n",
    "\n",
    "  "
   ]
  },
  {
   "cell_type": "markdown",
   "metadata": {
    "colab_type": "text",
    "id": "yI4kPKU1PpkG"
   },
   "source": [
    "  - Mine data\n",
    "  - Identify hidden patterns and create labels (unsupervised learning)\n",
    "  - Train model\n",
    "  - Flag transaction as fraudulent\n",
    "  "
   ]
  },
  {
   "cell_type": "markdown",
   "metadata": {
    "colab_type": "text",
    "id": "WMmgxYymPCP3"
   },
   "source": [
    "##### Content Personalization\n"
   ]
  },
  {
   "cell_type": "markdown",
   "metadata": {
    "colab_type": "text",
    "id": "1QQntewZPoIT"
   },
   "source": [
    "  - Use predictive analytics to recommend items (recommendation systems)"
   ]
  },
  {
   "cell_type": "markdown",
   "metadata": {
    "colab_type": "text",
    "id": "L27fzNNqPU78"
   },
   "source": [
    "##### Target Marketing"
   ]
  },
  {
   "cell_type": "markdown",
   "metadata": {
    "colab_type": "text",
    "id": "nR0j74UtPYcR"
   },
   "source": [
    "* Use custom activity to choose revelant email campaigns\n",
    "* cross-selling\n",
    "* upselling"
   ]
  },
  {
   "cell_type": "markdown",
   "metadata": {
    "colab_type": "text",
    "id": "cmOGo30EPzyI"
   },
   "source": [
    "##### Categorization"
   ]
  },
  {
   "cell_type": "markdown",
   "metadata": {
    "colab_type": "text",
    "id": "1tc01wYZP10m"
   },
   "source": [
    "* Matching hiring managers and resumes\n",
    "* Unstructured content --> Machine Learning Model --> Categorized documents"
   ]
  },
  {
   "cell_type": "markdown",
   "metadata": {
    "colab_type": "text",
    "id": "ZcEl2FAfQMUv"
   },
   "source": [
    "##### Customer Service"
   ]
  },
  {
   "cell_type": "markdown",
   "metadata": {
    "colab_type": "text",
    "id": "esZyYtFCQMUx"
   },
   "source": [
    "* Analyze social media traffic to route customers to customer support\n",
    "* Predictive routing of customer emails"
   ]
  },
  {
   "cell_type": "markdown",
   "metadata": {
    "colab_type": "text",
    "id": "L81LNGGpQth4"
   },
   "source": [
    "#### Machine Learning Concepts"
   ]
  },
  {
   "cell_type": "markdown",
   "metadata": {
    "colab_type": "text",
    "id": "Cl6ejyv-lA-Z"
   },
   "source": [
    "![Ml Modeling](https://user-images.githubusercontent.com/58792/49088318-dc573700-f20d-11e8-825c-d034f060b395.png)"
   ]
  },
  {
   "cell_type": "markdown",
   "metadata": {
    "colab_type": "text",
    "id": "UDx9LcAERBGV"
   },
   "source": [
    "**Combination of Methods and Systems**"
   ]
  },
  {
   "cell_type": "markdown",
   "metadata": {
    "colab_type": "text",
    "id": "cRWNOJ_JQth6"
   },
   "source": [
    "* **Predict**\n",
    "  - Predict new data based on observed data\n",
    "* **Extract**\n",
    "  - Extract hidden structure from data\n",
    "* **Summarize**\n",
    "  - Summarize data into executive brief\n",
    "* **Optimize**\n",
    "  - Optimize an action, given a cost function and observed data\n",
    "* **Adapt**\n",
    "  - Adapt based on observed data"
   ]
  },
  {
   "cell_type": "markdown",
   "metadata": {
    "colab_type": "text",
    "id": "UzOX1NXvVajB"
   },
   "source": [
    "#### Machine Learning Types"
   ]
  },
  {
   "cell_type": "markdown",
   "metadata": {
    "colab_type": "text",
    "id": "egpHjCJbVa4f"
   },
   "source": [
    "![Machine Learning Types](https://user-images.githubusercontent.com/58792/48926326-c77f4a00-ee81-11e8-8066-84c922df39d2.png)"
   ]
  },
  {
   "cell_type": "markdown",
   "metadata": {
    "colab_type": "text",
    "id": "kEvX7IQEVkX_"
   },
   "source": [
    "* Supervised Learning\n",
    "  - Labels are known for inputs and outputs\n",
    "  - Model \"learns\" to generalize from data (records)\n",
    "  - Human needs to tell model which outputs are correct (to train model)\n",
    "  - Input --> Model --> Output/Prediction\n",
    "  - Classification (Category like \"red\", \"blue\") and Regression (Numerical i.e. Housing price)\n",
    " \n",
    "* Unsupervised Learning\n",
    "  - Labels are not known\n",
    "  - Lables \"hidden structures\" are discovered\n",
    "  - Self-organization\n",
    "  - Clustering\n",
    " \n",
    "* Reinforcement Learning\n",
    "  - Model learns by interacting with environment\n",
    "  - Learns to take action to maximize total reward\n",
    "  - Inspired by behavioral biology\n",
    " \n",
    "  \n",
    "  "
   ]
  },
  {
   "cell_type": "markdown",
   "metadata": {
    "colab_type": "text",
    "id": "j_gRca1vByuL"
   },
   "source": [
    "#### Frameworks & Infrastructure"
   ]
  },
  {
   "cell_type": "markdown",
   "metadata": {
    "colab_type": "text",
    "id": "WiYj4WIOD0dr"
   },
   "source": [
    "* All Major frameworks\n",
    "  - Apache MXNet\n",
    "  - Caffe and Caffe 2\n",
    "  - Tensorflow"
   ]
  },
  {
   "cell_type": "markdown",
   "metadata": {
    "colab_type": "text",
    "id": "jhSFhnKtDawl"
   },
   "source": [
    "#### Machine learning platforms"
   ]
  },
  {
   "cell_type": "markdown",
   "metadata": {
    "colab_type": "text",
    "id": "TMgKoKi7o32f"
   },
   "source": [
    "* Fully managed platform for building models with own data\n",
    "  - Apache Spark on EMR\n",
    "  - SparkML (25 PetaByte models, Zillow and Netflix) \n",
    "  - Sagemaker\n",
    "  - Amazon Machine Learning"
   ]
  },
  {
   "cell_type": "markdown",
   "metadata": {
    "colab_type": "text",
    "id": "g2DKkOCHDaz4"
   },
   "source": [
    "#### API-driven services"
   ]
  },
  {
   "cell_type": "markdown",
   "metadata": {
    "colab_type": "text",
    "id": "1IPzubP6o4hQ"
   },
   "source": [
    "Examples include:\n",
    "\n",
    "\n",
    "\n",
    "*   Comprehend (NLP)\n",
    "*   Rekognition (Computer Vision)\n",
    "\n"
   ]
  },
  {
   "cell_type": "markdown",
   "metadata": {
    "colab_type": "text",
    "id": "1hrzi0nhDa3V"
   },
   "source": [
    "#### Models"
   ]
  },
  {
   "cell_type": "markdown",
   "metadata": {
    "colab_type": "text",
    "id": "p3QgVrxPo5Hl"
   },
   "source": [
    "* Can be stored in S3\n",
    "* Can be A/B tested"
   ]
  },
  {
   "cell_type": "markdown",
   "metadata": {
    "colab_type": "text",
    "id": "fCPtd7bADa6X"
   },
   "source": [
    "#### Optimized Instances & Machine Images"
   ]
  },
  {
   "cell_type": "markdown",
   "metadata": {
    "colab_type": "text",
    "id": "mS5BmQ0JDa9-"
   },
   "source": [
    "* Deep Learning AMIs\n",
    "* Containers"
   ]
  },
  {
   "cell_type": "markdown",
   "metadata": {
    "colab_type": "text",
    "id": "7kXTB2KgyuVD"
   },
   "source": [
    "## 4.2 Feature Engineering\n"
   ]
  },
  {
   "cell_type": "markdown",
   "metadata": {
    "colab_type": "text",
    "id": "itASk_VSuAaC"
   },
   "source": [
    "### Feature Engineering Overview"
   ]
  },
  {
   "cell_type": "markdown",
   "metadata": {
    "colab_type": "text",
    "id": "ZkLYBaBUuFVY"
   },
   "source": [
    "\n",
    "\n",
    "*   Feature is an attribute used in a prediction model\n",
    "*   Feature engineering is the creation and curation of these attributes\n",
    "\n"
   ]
  },
  {
   "cell_type": "markdown",
   "metadata": {
    "colab_type": "text",
    "id": "0gpFkMsDo-nC"
   },
   "source": [
    "### Explore Features"
   ]
  },
  {
   "cell_type": "code",
   "execution_count": 1,
   "metadata": {
    "colab": {
     "base_uri": "https://localhost:8080/",
     "height": 253
    },
    "colab_type": "code",
    "executionInfo": {
     "elapsed": 1212,
     "status": "ok",
     "timestamp": 1544636943900,
     "user": {
      "displayName": "Noah Gift",
      "photoUrl": "https://lh4.googleusercontent.com/-dTIpOULZLNo/AAAAAAAAAAI/AAAAAAAAFSA/_rU4zfumAAY/s64/photo.jpg",
      "userId": "07348815708884684945"
     },
     "user_tz": 480
    },
    "id": "5zSCcP27pGtm",
    "outputId": "e2cb8cd1-ba21-43ca-b78e-4898d2ed91c0"
   },
   "outputs": [
    {
     "data": {
      "text/html": [
       "<div>\n",
       "<style scoped>\n",
       "    .dataframe tbody tr th:only-of-type {\n",
       "        vertical-align: middle;\n",
       "    }\n",
       "\n",
       "    .dataframe tbody tr th {\n",
       "        vertical-align: top;\n",
       "    }\n",
       "\n",
       "    .dataframe thead th {\n",
       "        text-align: right;\n",
       "    }\n",
       "</style>\n",
       "<table border=\"1\" class=\"dataframe\">\n",
       "  <thead>\n",
       "    <tr style=\"text-align: right;\">\n",
       "      <th></th>\n",
       "      <th>age</th>\n",
       "      <th>job</th>\n",
       "      <th>marital</th>\n",
       "      <th>education</th>\n",
       "      <th>default</th>\n",
       "      <th>housing</th>\n",
       "      <th>loan</th>\n",
       "      <th>contact</th>\n",
       "      <th>month</th>\n",
       "      <th>day_of_week</th>\n",
       "      <th>...</th>\n",
       "      <th>campaign</th>\n",
       "      <th>pdays</th>\n",
       "      <th>previous</th>\n",
       "      <th>poutcome</th>\n",
       "      <th>emp_var_rate</th>\n",
       "      <th>cons_price_idx</th>\n",
       "      <th>cons_conf_idx</th>\n",
       "      <th>euribor3m</th>\n",
       "      <th>nr_employed</th>\n",
       "      <th>y</th>\n",
       "    </tr>\n",
       "  </thead>\n",
       "  <tbody>\n",
       "    <tr>\n",
       "      <th>0</th>\n",
       "      <td>44</td>\n",
       "      <td>blue-collar</td>\n",
       "      <td>married</td>\n",
       "      <td>basic.4y</td>\n",
       "      <td>unknown</td>\n",
       "      <td>yes</td>\n",
       "      <td>no</td>\n",
       "      <td>cellular</td>\n",
       "      <td>aug</td>\n",
       "      <td>thu</td>\n",
       "      <td>...</td>\n",
       "      <td>1</td>\n",
       "      <td>999</td>\n",
       "      <td>0</td>\n",
       "      <td>nonexistent</td>\n",
       "      <td>1.4</td>\n",
       "      <td>93.444</td>\n",
       "      <td>-36.1</td>\n",
       "      <td>4.963</td>\n",
       "      <td>5228.1</td>\n",
       "      <td>0</td>\n",
       "    </tr>\n",
       "    <tr>\n",
       "      <th>1</th>\n",
       "      <td>53</td>\n",
       "      <td>technician</td>\n",
       "      <td>married</td>\n",
       "      <td>unknown</td>\n",
       "      <td>no</td>\n",
       "      <td>no</td>\n",
       "      <td>no</td>\n",
       "      <td>cellular</td>\n",
       "      <td>nov</td>\n",
       "      <td>fri</td>\n",
       "      <td>...</td>\n",
       "      <td>1</td>\n",
       "      <td>999</td>\n",
       "      <td>0</td>\n",
       "      <td>nonexistent</td>\n",
       "      <td>-0.1</td>\n",
       "      <td>93.200</td>\n",
       "      <td>-42.0</td>\n",
       "      <td>4.021</td>\n",
       "      <td>5195.8</td>\n",
       "      <td>0</td>\n",
       "    </tr>\n",
       "    <tr>\n",
       "      <th>2</th>\n",
       "      <td>28</td>\n",
       "      <td>management</td>\n",
       "      <td>single</td>\n",
       "      <td>university.degree</td>\n",
       "      <td>no</td>\n",
       "      <td>yes</td>\n",
       "      <td>no</td>\n",
       "      <td>cellular</td>\n",
       "      <td>jun</td>\n",
       "      <td>thu</td>\n",
       "      <td>...</td>\n",
       "      <td>3</td>\n",
       "      <td>6</td>\n",
       "      <td>2</td>\n",
       "      <td>success</td>\n",
       "      <td>-1.7</td>\n",
       "      <td>94.055</td>\n",
       "      <td>-39.8</td>\n",
       "      <td>0.729</td>\n",
       "      <td>4991.6</td>\n",
       "      <td>1</td>\n",
       "    </tr>\n",
       "    <tr>\n",
       "      <th>3</th>\n",
       "      <td>39</td>\n",
       "      <td>services</td>\n",
       "      <td>married</td>\n",
       "      <td>high.school</td>\n",
       "      <td>no</td>\n",
       "      <td>no</td>\n",
       "      <td>no</td>\n",
       "      <td>cellular</td>\n",
       "      <td>apr</td>\n",
       "      <td>fri</td>\n",
       "      <td>...</td>\n",
       "      <td>2</td>\n",
       "      <td>999</td>\n",
       "      <td>0</td>\n",
       "      <td>nonexistent</td>\n",
       "      <td>-1.8</td>\n",
       "      <td>93.075</td>\n",
       "      <td>-47.1</td>\n",
       "      <td>1.405</td>\n",
       "      <td>5099.1</td>\n",
       "      <td>0</td>\n",
       "    </tr>\n",
       "    <tr>\n",
       "      <th>4</th>\n",
       "      <td>55</td>\n",
       "      <td>retired</td>\n",
       "      <td>married</td>\n",
       "      <td>basic.4y</td>\n",
       "      <td>no</td>\n",
       "      <td>yes</td>\n",
       "      <td>no</td>\n",
       "      <td>cellular</td>\n",
       "      <td>aug</td>\n",
       "      <td>fri</td>\n",
       "      <td>...</td>\n",
       "      <td>1</td>\n",
       "      <td>3</td>\n",
       "      <td>1</td>\n",
       "      <td>success</td>\n",
       "      <td>-2.9</td>\n",
       "      <td>92.201</td>\n",
       "      <td>-31.4</td>\n",
       "      <td>0.869</td>\n",
       "      <td>5076.2</td>\n",
       "      <td>1</td>\n",
       "    </tr>\n",
       "  </tbody>\n",
       "</table>\n",
       "<p>5 rows × 21 columns</p>\n",
       "</div>"
      ],
      "text/plain": [
       "   age          job  marital          education  default housing loan  \\\n",
       "0   44  blue-collar  married           basic.4y  unknown     yes   no   \n",
       "1   53   technician  married            unknown       no      no   no   \n",
       "2   28   management   single  university.degree       no     yes   no   \n",
       "3   39     services  married        high.school       no      no   no   \n",
       "4   55      retired  married           basic.4y       no     yes   no   \n",
       "\n",
       "    contact month day_of_week ...  campaign  pdays  previous     poutcome  \\\n",
       "0  cellular   aug         thu ...         1    999         0  nonexistent   \n",
       "1  cellular   nov         fri ...         1    999         0  nonexistent   \n",
       "2  cellular   jun         thu ...         3      6         2      success   \n",
       "3  cellular   apr         fri ...         2    999         0  nonexistent   \n",
       "4  cellular   aug         fri ...         1      3         1      success   \n",
       "\n",
       "  emp_var_rate  cons_price_idx  cons_conf_idx  euribor3m  nr_employed  y  \n",
       "0          1.4          93.444          -36.1      4.963       5228.1  0  \n",
       "1         -0.1          93.200          -42.0      4.021       5195.8  0  \n",
       "2         -1.7          94.055          -39.8      0.729       4991.6  1  \n",
       "3         -1.8          93.075          -47.1      1.405       5099.1  0  \n",
       "4         -2.9          92.201          -31.4      0.869       5076.2  1  \n",
       "\n",
       "[5 rows x 21 columns]"
      ]
     },
     "execution_count": 1,
     "metadata": {
      "tags": []
     },
     "output_type": "execute_result"
    }
   ],
   "source": [
    "import pandas as pd\n",
    "import seaborn as sns\n",
    "\n",
    "df = pd.read_csv(\"https://raw.githubusercontent.com/noahgift/aws-ml-guide/master/data/banking.csv\")\n",
    "df.head()"
   ]
  },
  {
   "cell_type": "markdown",
   "metadata": {
    "colab_type": "text",
    "id": "2DDt9lD1tj0V"
   },
   "source": [
    "#### Correlation Heatmap"
   ]
  },
  {
   "cell_type": "code",
   "execution_count": 2,
   "metadata": {
    "colab": {
     "base_uri": "https://localhost:8080/",
     "height": 421
    },
    "colab_type": "code",
    "executionInfo": {
     "elapsed": 958,
     "status": "ok",
     "timestamp": 1544636968983,
     "user": {
      "displayName": "Noah Gift",
      "photoUrl": "https://lh4.googleusercontent.com/-dTIpOULZLNo/AAAAAAAAAAI/AAAAAAAAFSA/_rU4zfumAAY/s64/photo.jpg",
      "userId": "07348815708884684945"
     },
     "user_tz": 480
    },
    "id": "sUrn45ibtLQB",
    "outputId": "8e9bf443-b991-496e-a7f3-44ea3b490aae"
   },
   "outputs": [
    {
     "data": {
      "text/plain": [
       "<matplotlib.axes._subplots.AxesSubplot at 0x7fd3ae31b4a8>"
      ]
     },
     "execution_count": 2,
     "metadata": {
      "tags": []
     },
     "output_type": "execute_result"
    },
    {
     "data": {
      "image/png": "[encoded data removed]",
      "text/plain": [
       "<matplotlib.figure.Figure at 0x7fd3ae30a4a8>"
      ]
     },
     "metadata": {
      "tags": []
     },
     "output_type": "display_data"
    }
   ],
   "source": [
    "sns.heatmap(df.corr())"
   ]
  },
  {
   "cell_type": "markdown",
   "metadata": {
    "colab_type": "text",
    "id": "BVhRu73hoXzN"
   },
   "source": [
    "#### Yellowbrick Road Feature Rank"
   ]
  },
  {
   "cell_type": "markdown",
   "metadata": {
    "colab_type": "text",
    "id": "ivyYbUShqcNa"
   },
   "source": [
    "Can use [yellowbrick road](http://www.scikit-yb.org/en/latest/index.html) to visualize feature importance"
   ]
  },
  {
   "cell_type": "code",
   "execution_count": 3,
   "metadata": {
    "colab": {
     "base_uri": "https://localhost:8080/",
     "height": 920
    },
    "colab_type": "code",
    "executionInfo": {
     "elapsed": 2901,
     "status": "ok",
     "timestamp": 1544637014004,
     "user": {
      "displayName": "Noah Gift",
      "photoUrl": "https://lh4.googleusercontent.com/-dTIpOULZLNo/AAAAAAAAAAI/AAAAAAAAFSA/_rU4zfumAAY/s64/photo.jpg",
      "userId": "07348815708884684945"
     },
     "user_tz": 480
    },
    "id": "E9-SpimcocjY",
    "outputId": "a902e72b-9dad-4df5-e059-54b80655aef7"
   },
   "outputs": [
    {
     "data": {
      "image/png": "[encoded data removed]",
      "text/plain": [
       "<matplotlib.figure.Figure at 0x7fd3ad024f28>"
      ]
     },
     "metadata": {
      "tags": []
     },
     "output_type": "display_data"
    }
   ],
   "source": [
    "from yellowbrick.features import Rank2D\n",
    "visualizer = Rank2D(algorithm=\"pearson\", size=(1080, 1080))\n",
    "visualizer.fit_transform(pd.get_dummies(df))\n",
    "visualizer.poof()"
   ]
  },
  {
   "cell_type": "markdown",
   "metadata": {
    "colab_type": "text",
    "id": "1CrVJeZSyyEs"
   },
   "source": [
    "### Demo AWS Machine Learning Service"
   ]
  },
  {
   "cell_type": "markdown",
   "metadata": {
    "colab_type": "text",
    "id": "0cS8_6ukOX6Q"
   },
   "source": [
    "\n",
    "*  [Tutorial:  Amazon ML to Predict Reponses to a ML Offer](https://docs.aws.amazon.com/machine-learning/latest/dg/tutorial.html)\n",
    "\n",
    "*   Create Training Datasource (Steps Below)\n",
    "\n"
   ]
  },
  {
   "cell_type": "markdown",
   "metadata": {
    "colab_type": "text",
    "id": "xGCPq-utzDcV"
   },
   "source": [
    "*   Prepare Data \n",
    " ** - Create S3 Bucket & Create folder**\n",
    "  ![s3bucket](https://user-images.githubusercontent.com/58792/49109353-548a2080-f23f-11e8-8700-5fb512005655.png)\n",
    "  \n",
    "**  - Upload CSV files**\n",
    "![csv_file](https://user-images.githubusercontent.com/58792/49109351-548a2080-f23f-11e8-82fa-ade76fe73bdc.png)\n",
    "\n",
    "  \n",
    " \n",
    "**  - Create Data Source **\n",
    "\n",
    "![create data source](https://user-images.githubusercontent.com/58792/49109714-45f03900-f240-11e8-8272-f65d4eafe2ca.png)\n",
    "\n",
    "\n",
    "\n"
   ]
  },
  {
   "cell_type": "markdown",
   "metadata": {
    "colab_type": "text",
    "id": "QQbOCseJ32jF"
   },
   "source": [
    "**Infer the Schema**\n",
    "\n",
    "Amazon Machine Learning Service infers the proper schema\n",
    "\n",
    "\n",
    "![Infer the Schema](https://user-images.githubusercontent.com/58792/49111125-15120300-f244-11e8-9116-abeb5288fa3d.png)\n"
   ]
  },
  {
   "cell_type": "markdown",
   "metadata": {
    "colab_type": "text",
    "id": "X29iBfUR5ah0"
   },
   "source": [
    "**Select the Target**\n",
    "\n",
    "\n",
    "![target](https://user-images.githubusercontent.com/58792/49111259-74701300-f244-11e8-94aa-124f9fb640c1.png)"
   ]
  },
  {
   "cell_type": "markdown",
   "metadata": {
    "colab_type": "text",
    "id": "18M9wnli-uul"
   },
   "source": []
  },
  {
   "cell_type": "markdown",
   "metadata": {
    "colab_type": "text",
    "id": "lgXraZ2kyyJ7"
   },
   "source": [
    "## 4.3 Train a Model"
   ]
  },
  {
   "cell_type": "markdown",
   "metadata": {
    "colab_type": "text",
    "id": "eoVN1pgkVCC5"
   },
   "source": [
    "#### Create 70/30 Split and Train Model in sklearn"
   ]
  },
  {
   "cell_type": "code",
   "execution_count": 4,
   "metadata": {
    "colab": {
     "base_uri": "https://localhost:8080/",
     "height": 102
    },
    "colab_type": "code",
    "executionInfo": {
     "elapsed": 1288,
     "status": "ok",
     "timestamp": 1544637899309,
     "user": {
      "displayName": "Noah Gift",
      "photoUrl": "https://lh4.googleusercontent.com/-dTIpOULZLNo/AAAAAAAAAAI/AAAAAAAAFSA/_rU4zfumAAY/s64/photo.jpg",
      "userId": "07348815708884684945"
     },
     "user_tz": 480
    },
    "id": "YbPYgGivg4Hf",
    "outputId": "990cf354-7f76-41db-ca20-9b5639612f8e"
   },
   "outputs": [
    {
     "data": {
      "text/plain": [
       "Index(['age', 'job', 'marital', 'education', 'default', 'housing', 'loan',\n",
       "       'contact', 'month', 'day_of_week', 'duration', 'campaign', 'pdays',\n",
       "       'previous', 'poutcome', 'emp_var_rate', 'cons_price_idx',\n",
       "       'cons_conf_idx', 'euribor3m', 'nr_employed', 'y'],\n",
       "      dtype='object')"
      ]
     },
     "execution_count": 4,
     "metadata": {
      "tags": []
     },
     "output_type": "execute_result"
    }
   ],
   "source": [
    "banking_df = pd.read_csv(\"https://raw.githubusercontent.com/noahgift/aws-ml-guide/master/data/banking.csv\")\n",
    "banking_df.columns #y column will be predicted"
   ]
  },
  {
   "cell_type": "markdown",
   "metadata": {
    "colab_type": "text",
    "id": "nXc6SdlBhtTW"
   },
   "source": [
    "#### One Hot Encode with sklearn\n",
    "\n",
    "[One Hot Encode Categories](https://scikit-learn.org/stable/modules/generated/sklearn.feature_extraction.DictVectorizer.html#sklearn.feature_extraction.DictVectorizer)"
   ]
  },
  {
   "cell_type": "code",
   "execution_count": 5,
   "metadata": {
    "colab": {
     "base_uri": "https://localhost:8080/",
     "height": 51
    },
    "colab_type": "code",
    "executionInfo": {
     "elapsed": 4860,
     "status": "ok",
     "timestamp": 1544637976120,
     "user": {
      "displayName": "Noah Gift",
      "photoUrl": "https://lh4.googleusercontent.com/-dTIpOULZLNo/AAAAAAAAAAI/AAAAAAAAFSA/_rU4zfumAAY/s64/photo.jpg",
      "userId": "07348815708884684945"
     },
     "user_tz": 480
    },
    "id": "y4EUINbITk_W",
    "outputId": "382836d7-57f7-4fec-9f24-454fd635d978"
   },
   "outputs": [
    {
     "name": "stdout",
     "output_type": "stream",
     "text": [
      " 70% Split data structure: <class 'numpy.ndarray'> and shape: (28831, 64)\n",
      " 30% Split data structure: <class 'numpy.ndarray'> and shape: (12357, 64)\n"
     ]
    }
   ],
   "source": [
    "from sklearn.model_selection import train_test_split\n",
    "from sklearn.linear_model import LogisticRegression\n",
    "from sklearn.feature_extraction import DictVectorizer\n",
    "\n",
    "dvec = DictVectorizer(sparse=False)\n",
    "vectorized_banking_df = dvec.fit_transform(df.transpose().to_dict().values())\n",
    "train, test = train_test_split(vectorized_banking_df, test_size=0.3)\n",
    "\n",
    "print(f\" 70% Split data structure: {type(train)} and shape: {train.shape}\")\n",
    "print(f\" 30% Split data structure: {type(test)} and shape: {test.shape}\")\n"
   ]
  },
  {
   "cell_type": "markdown",
   "metadata": {
    "colab_type": "text",
    "id": "Lb4LqxBHahIQ"
   },
   "source": [
    "#### Use Logistic Regression to train model on 70% train data"
   ]
  },
  {
   "cell_type": "code",
   "execution_count": 6,
   "metadata": {
    "colab": {
     "base_uri": "https://localhost:8080/",
     "height": 173
    },
    "colab_type": "code",
    "executionInfo": {
     "elapsed": 1080,
     "status": "ok",
     "timestamp": 1544638022920,
     "user": {
      "displayName": "Noah Gift",
      "photoUrl": "https://lh4.googleusercontent.com/-dTIpOULZLNo/AAAAAAAAAAI/AAAAAAAAFSA/_rU4zfumAAY/s64/photo.jpg",
      "userId": "07348815708884684945"
     },
     "user_tz": 480
    },
    "id": "MIxWTdPzZhUa",
    "outputId": "3080b99b-6f2c-4751-a7e7-a6d4e3b59740"
   },
   "outputs": [
    {
     "name": "stdout",
     "output_type": "stream",
     "text": [
      " Drop last column in X (28831, 63)\n",
      " Select last column in Y (28831,)\n"
     ]
    },
    {
     "name": "stderr",
     "output_type": "stream",
     "text": [
      "/usr/local/lib/python3.6/dist-packages/sklearn/linear_model/logistic.py:433: FutureWarning: Default solver will be changed to 'lbfgs' in 0.22. Specify a solver to silence this warning.\n",
      "  FutureWarning)\n"
     ]
    },
    {
     "data": {
      "text/plain": [
       "LogisticRegression(C=1.0, class_weight=None, dual=False, fit_intercept=True,\n",
       "          intercept_scaling=1, max_iter=100, multi_class='warn',\n",
       "          n_jobs=None, penalty='l2', random_state=None, solver='warn',\n",
       "          tol=0.0001, verbose=0, warm_start=False)"
      ]
     },
     "execution_count": 6,
     "metadata": {
      "tags": []
     },
     "output_type": "execute_result"
    }
   ],
   "source": [
    "from sklearn.linear_model import LogisticRegression\n",
    "\n",
    "X = train[:,:-1]  #drop the predict 'y'\n",
    "print(f\" Drop last column in X {X.shape}\")\n",
    "Y = train[:, -1] #select only predict variable 'y'\n",
    "print(f\" Select last column in Y {Y.shape}\")\n",
    "model = LogisticRegression()\n",
    "model.fit(X, Y)\n"
   ]
  },
  {
   "cell_type": "markdown",
   "metadata": {
    "colab_type": "text",
    "id": "OMNcsGAwyyM7"
   },
   "source": [
    "### Demo AWS Machine Learning Service"
   ]
  },
  {
   "cell_type": "markdown",
   "metadata": {
    "colab_type": "text",
    "id": "uZKB2jDWOY44"
   },
   "source": [
    "\n",
    "\n",
    "*   [Tutorial (Continued): Amazon ML to Predict Reponses to a ML Offer](https://docs.aws.amazon.com/machine-learning/latest/dg/tutorial.html)\n",
    "\n",
    "*   **Create ML Model**\n",
    "\n",
    "![ML model settings](https://user-images.githubusercontent.com/58792/49115892-ddf61e80-f250-11e8-9ec4-d0576e7c1e87.png)\n",
    "\n",
    "\n",
    "\n"
   ]
  },
  {
   "cell_type": "markdown",
   "metadata": {
    "colab_type": "text",
    "id": "R0to0Hr3yyQE"
   },
   "source": [
    "## 4.4 Evaluate a Model"
   ]
  },
  {
   "cell_type": "markdown",
   "metadata": {
    "colab_type": "text",
    "id": "XBW7qnx-qo-v"
   },
   "source": [
    "#### Classification Model Evaluation Metrics"
   ]
  },
  {
   "cell_type": "markdown",
   "metadata": {
    "colab_type": "text",
    "id": "2PBRDe14q8nk"
   },
   "source": [
    "\n",
    "* **Precision**\n",
    "\n",
    "* **Recall**\n",
    "\n",
    "* **F1**:  harmonic mean of precision and recall\n",
    "\n",
    "* **AUC ([Area Under the Curve](https://docs.aws.amazon.com/machine-learning/latest/dg/binary-model-insights.html#measuring-ml-model-accuracy))**\n",
    "\n",
    "Measures the ability of a model to predict higher scores for positive observations vs negative observations.\n",
    "\n",
    "![AUC Example from AWS](https://user-images.githubusercontent.com/58792/49120374-274e6a00-f261-11e8-80da-7128e9feaeb6.png)\n",
    "\n",
    "\n"
   ]
  },
  {
   "cell_type": "markdown",
   "metadata": {
    "colab_type": "text",
    "id": "-ycT0EMXoBd-"
   },
   "source": [
    "#### Using Yellowbrick road to evaluate model"
   ]
  },
  {
   "cell_type": "code",
   "execution_count": 0,
   "metadata": {
    "colab": {
     "base_uri": "https://localhost:8080/",
     "height": 401
    },
    "colab_type": "code",
    "executionInfo": {
     "elapsed": 1116,
     "status": "ok",
     "timestamp": 1543363389547,
     "user": {
      "displayName": "Noah Gift",
      "photoUrl": "https://lh4.googleusercontent.com/-dTIpOULZLNo/AAAAAAAAAAI/AAAAAAAAFSA/_rU4zfumAAY/s64/photo.jpg",
      "userId": "07348815708884684945"
     },
     "user_tz": 480
    },
    "id": "GLlskrFWoFlQ",
    "outputId": "b41a1046-7a5c-4243-a744-dd5cfc987e6c"
   },
   "outputs": [
    {
     "data": {
      "image/png": "[encoded data removed]",
      "text/plain": [
       "<matplotlib.figure.Figure at 0x7f206a181e80>"
      ]
     },
     "metadata": {
      "tags": []
     },
     "output_type": "display_data"
    }
   ],
   "source": [
    "from yellowbrick.classifier import ClassificationReport\n",
    "from sklearn.linear_model import LogisticRegression\n",
    "\n",
    "visualizer = ClassificationReport(model)\n",
    "visualizer.fit(X, Y)\n",
    "visualizer.score(X, Y)\n",
    "visualizer.poof()"
   ]
  },
  {
   "cell_type": "markdown",
   "metadata": {
    "colab_type": "text",
    "id": "BMA3ujntuidt"
   },
   "source": [
    "#### Generate Cross-Validated Precision and Recall"
   ]
  },
  {
   "cell_type": "code",
   "execution_count": 7,
   "metadata": {
    "colab": {
     "base_uri": "https://localhost:8080/",
     "height": 139
    },
    "colab_type": "code",
    "executionInfo": {
     "elapsed": 1264,
     "status": "ok",
     "timestamp": 1544638417713,
     "user": {
      "displayName": "Noah Gift",
      "photoUrl": "https://lh4.googleusercontent.com/-dTIpOULZLNo/AAAAAAAAAAI/AAAAAAAAFSA/_rU4zfumAAY/s64/photo.jpg",
      "userId": "07348815708884684945"
     },
     "user_tz": 480
    },
    "id": "x5bguV5runFZ",
    "outputId": "519e38a5-d913-45fd-a2e9-9e4a59491b07"
   },
   "outputs": [
    {
     "name": "stderr",
     "output_type": "stream",
     "text": [
      "/usr/local/lib/python3.6/dist-packages/sklearn/linear_model/logistic.py:433: FutureWarning: Default solver will be changed to 'lbfgs' in 0.22. Specify a solver to silence this warning.\n",
      "  FutureWarning)\n",
      "/usr/local/lib/python3.6/dist-packages/sklearn/linear_model/logistic.py:433: FutureWarning: Default solver will be changed to 'lbfgs' in 0.22. Specify a solver to silence this warning.\n",
      "  FutureWarning)\n",
      "/usr/local/lib/python3.6/dist-packages/sklearn/linear_model/logistic.py:433: FutureWarning: Default solver will be changed to 'lbfgs' in 0.22. Specify a solver to silence this warning.\n",
      "  FutureWarning)\n"
     ]
    }
   ],
   "source": [
    "from sklearn.model_selection import cross_val_predict\n",
    "from sklearn.metrics import precision_score, recall_score\n",
    "\n",
    "y_train_pred = cross_val_predict(model, X, Y, cv=3)"
   ]
  },
  {
   "cell_type": "markdown",
   "metadata": {
    "colab_type": "text",
    "id": "htSYYj7yvRVZ"
   },
   "source": [
    "**Precision**"
   ]
  },
  {
   "cell_type": "code",
   "execution_count": 8,
   "metadata": {
    "colab": {
     "base_uri": "https://localhost:8080/",
     "height": 34
    },
    "colab_type": "code",
    "executionInfo": {
     "elapsed": 385,
     "status": "ok",
     "timestamp": 1544638426648,
     "user": {
      "displayName": "Noah Gift",
      "photoUrl": "https://lh4.googleusercontent.com/-dTIpOULZLNo/AAAAAAAAAAI/AAAAAAAAFSA/_rU4zfumAAY/s64/photo.jpg",
      "userId": "07348815708884684945"
     },
     "user_tz": 480
    },
    "id": "TG-CeAKzvUim",
    "outputId": "1033dd39-4d43-4de8-b2c9-735bc49571ab"
   },
   "outputs": [
    {
     "data": {
      "text/plain": [
       "0.6702619414483821"
      ]
     },
     "execution_count": 8,
     "metadata": {
      "tags": []
     },
     "output_type": "execute_result"
    }
   ],
   "source": [
    "precision_score(Y, y_train_pred)"
   ]
  },
  {
   "cell_type": "markdown",
   "metadata": {
    "colab_type": "text",
    "id": "dbqG5KK_vfxO"
   },
   "source": [
    "**Recall**"
   ]
  },
  {
   "cell_type": "code",
   "execution_count": 9,
   "metadata": {
    "colab": {
     "base_uri": "https://localhost:8080/",
     "height": 34
    },
    "colab_type": "code",
    "executionInfo": {
     "elapsed": 341,
     "status": "ok",
     "timestamp": 1544638430853,
     "user": {
      "displayName": "Noah Gift",
      "photoUrl": "https://lh4.googleusercontent.com/-dTIpOULZLNo/AAAAAAAAAAI/AAAAAAAAFSA/_rU4zfumAAY/s64/photo.jpg",
      "userId": "07348815708884684945"
     },
     "user_tz": 480
    },
    "id": "4UdexHgivf7D",
    "outputId": "124064ae-9fbd-479a-a551-da92131b0901"
   },
   "outputs": [
    {
     "data": {
      "text/plain": [
       "0.3987167736021998"
      ]
     },
     "execution_count": 9,
     "metadata": {
      "tags": []
     },
     "output_type": "execute_result"
    }
   ],
   "source": [
    "recall_score(Y, y_train_pred)"
   ]
  },
  {
   "cell_type": "markdown",
   "metadata": {
    "colab_type": "text",
    "id": "BSP4ZTpjvzHZ"
   },
   "source": [
    "**F1 Score**"
   ]
  },
  {
   "cell_type": "code",
   "execution_count": 0,
   "metadata": {
    "colab": {},
    "colab_type": "code",
    "collapsed": true,
    "id": "pp9H_By-v175"
   },
   "outputs": [],
   "source": [
    "from sklearn.metrics import f1_score"
   ]
  },
  {
   "cell_type": "code",
   "execution_count": 11,
   "metadata": {
    "colab": {
     "base_uri": "https://localhost:8080/",
     "height": 34
    },
    "colab_type": "code",
    "executionInfo": {
     "elapsed": 335,
     "status": "ok",
     "timestamp": 1544638440117,
     "user": {
      "displayName": "Noah Gift",
      "photoUrl": "https://lh4.googleusercontent.com/-dTIpOULZLNo/AAAAAAAAAAI/AAAAAAAAFSA/_rU4zfumAAY/s64/photo.jpg",
      "userId": "07348815708884684945"
     },
     "user_tz": 480
    },
    "id": "AOp4jY56v4Zi",
    "outputId": "53e23e90-f03a-4331-af41-75d842e4e4da"
   },
   "outputs": [
    {
     "data": {
      "text/plain": [
       "0.5000000000000001"
      ]
     },
     "execution_count": 11,
     "metadata": {
      "tags": []
     },
     "output_type": "execute_result"
    }
   ],
   "source": [
    "f1_score(Y, y_train_pred)"
   ]
  },
  {
   "cell_type": "markdown",
   "metadata": {
    "colab_type": "text",
    "id": "bK0RxC6lxIaG"
   },
   "source": [
    "**AUC**"
   ]
  },
  {
   "cell_type": "code",
   "execution_count": 12,
   "metadata": {
    "colab": {
     "base_uri": "https://localhost:8080/",
     "height": 34
    },
    "colab_type": "code",
    "executionInfo": {
     "elapsed": 327,
     "status": "ok",
     "timestamp": 1544638456398,
     "user": {
      "displayName": "Noah Gift",
      "photoUrl": "https://lh4.googleusercontent.com/-dTIpOULZLNo/AAAAAAAAAAI/AAAAAAAAFSA/_rU4zfumAAY/s64/photo.jpg",
      "userId": "07348815708884684945"
     },
     "user_tz": 480
    },
    "id": "skjj9SpLxKPz",
    "outputId": "92136158-3c74-4c08-9842-6c1ff826ae08"
   },
   "outputs": [
    {
     "data": {
      "text/plain": [
       "0.68679871859545"
      ]
     },
     "execution_count": 12,
     "metadata": {
      "tags": []
     },
     "output_type": "execute_result"
    }
   ],
   "source": [
    "from sklearn.metrics import roc_auc_score\n",
    "\n",
    "roc_auc_score(Y, y_train_pred)"
   ]
  },
  {
   "cell_type": "markdown",
   "metadata": {
    "colab_type": "text",
    "id": "3XzlNBqRyyWj"
   },
   "source": [
    "### Demo AWS Machine Learning Service"
   ]
  },
  {
   "cell_type": "markdown",
   "metadata": {
    "colab_type": "text",
    "id": "4-EBK2hrOZ_L"
   },
   "source": [
    "\n",
    "**Evaluatate Model**\n",
    "\n",
    "\n",
    "![Evaluating Model](https://user-images.githubusercontent.com/58792/49120960-a80e6580-f263-11e8-9413-98b52b811476.png)\n",
    "\n",
    "**Explore Performance**\n",
    "\n",
    "\n",
    "![Explore Performance](https://user-images.githubusercontent.com/58792/49121094-13583780-f264-11e8-9e17-5e0c20e23841.png)"
   ]
  },
  {
   "cell_type": "markdown",
   "metadata": {
    "colab_type": "text",
    "id": "x0BjMM43xuub"
   },
   "source": [
    "* Evaluating Model\n",
    "* Explore Performance"
   ]
  },
  {
   "cell_type": "markdown",
   "metadata": {
    "colab_type": "text",
    "id": "kD9MppHKy5Ma"
   },
   "source": [
    "## 4.5 Tune a Model"
   ]
  },
  {
   "cell_type": "markdown",
   "metadata": {
    "colab_type": "text",
    "id": "s-RxvF9Ny9Vy"
   },
   "source": [
    "### [Demo] AWS Machine Learning Service"
   ]
  },
  {
   "cell_type": "markdown",
   "metadata": {
    "colab_type": "text",
    "id": "-6UtY2FmZOhf"
   },
   "source": [
    "* show tradeoffs"
   ]
  },
  {
   "cell_type": "markdown",
   "metadata": {
    "colab_type": "text",
    "id": "JFK7Q6MBy9Yj"
   },
   "source": [
    "## 4.6 Understand ML Inference"
   ]
  },
  {
   "cell_type": "markdown",
   "metadata": {
    "colab_type": "text",
    "id": "ToTGRXbczAUO"
   },
   "source": [
    "### [Demo] AWS Machine Learning Service"
   ]
  },
  {
   "cell_type": "markdown",
   "metadata": {
    "colab_type": "text",
    "id": "Bl2Lc0t_Zft1"
   },
   "source": [
    "* Refers to prediction\n",
    "* Sagemaker can auto-scale inference endpoints\n",
    "* Also Amazon Elastic Inference service:\n",
    "  - Can save up to 75% of cost of inference (predictions)\n",
    "  - Attaches to Sagemaker and EC2"
   ]
  },
  {
   "cell_type": "markdown",
   "metadata": {
    "colab_type": "text",
    "id": "s2HmQ3Q0zAW4"
   },
   "source": [
    "## 4.7 Understand Deep Learning"
   ]
  },
  {
   "cell_type": "markdown",
   "metadata": {
    "colab_type": "text",
    "id": "VdKJTV38igkg"
   },
   "source": [
    "### Intro to Deep Learning"
   ]
  },
  {
   "cell_type": "markdown",
   "metadata": {
    "colab_type": "text",
    "id": "dfMY_tASimdr"
   },
   "source": [
    "[Intro to Deep Learning on AWS Video](https://www.aws.training/learningobject/video?id=16439&trk=gs_card)"
   ]
  },
  {
   "cell_type": "markdown",
   "metadata": {
    "colab_type": "text",
    "id": "jsvkrxtAjdoT"
   },
   "source": [
    "#### Brief History of Neural Networks\n",
    "\n",
    "* 1950-1998:  Academic Activity\n",
    "* 1998-2007:  AI Winter\n",
    "* 2007-Today:  \"The GPU Era\" (Moore's law over 2005)\n",
    "* Deep Learning is a \"multi-layered\" feed-forward neural network\n",
    "\n",
    "\n"
   ]
  },
  {
   "cell_type": "markdown",
   "metadata": {
    "colab_type": "text",
    "id": "HB0gINZRkPTP"
   },
   "source": [
    "#### Perform Storm for Deep Learning\n",
    "\n",
    "* Cloud Computing\n",
    "* End of Moore's Law (forces more GPU adoption)\n",
    "* Elastic Storage and Compute\n",
    "* Proliferation of data:  social networks, etc\n"
   ]
  },
  {
   "cell_type": "markdown",
   "metadata": {
    "colab_type": "text",
    "id": "pxmnqaDlz5O6"
   },
   "source": [
    "#### What is a Neural Network?\n",
    "\n",
    "\n"
   ]
  },
  {
   "cell_type": "markdown",
   "metadata": {
    "colab_type": "text",
    "id": "yoArLRhY0dgO"
   },
   "source": [
    "![DNN](https://user-images.githubusercontent.com/58792/48964488-45645380-ef5d-11e8-8c84-f3ab8b238689.png)\n",
    "\n",
    "* Can be \"Deep\" Neural Network (multi-layered), but optional\n",
    "* Simple functions than be collectively trained (in layers) to learn complex functions\n",
    "* Input Layer --> Hidden Layer(s) ---> Output Layer\n",
    "\n",
    "![RNN](https://user-images.githubusercontent.com/58792/48964874-08e92580-ef66-11e8-9c91-4e16ef98ed1a.png)\n",
    "\n",
    "* RNN is used sequences like:  \n",
    "  - text\n",
    "  - speech\n",
    "  - translation "
   ]
  },
  {
   "cell_type": "markdown",
   "metadata": {
    "colab_type": "text",
    "id": "4LyfP2iVMSHz"
   },
   "source": [
    "#### Deep Learning Use Cases"
   ]
  },
  {
   "cell_type": "markdown",
   "metadata": {
    "colab_type": "text",
    "id": "IXi0LUxSMVBz"
   },
   "source": [
    "* Text analysis (NLP)\n",
    "  - insider trading\n",
    "  - sentiment analysis\n",
    "  - regulatory compliance\n",
    "  - brand affinity\n",
    "  - intent analysis\n",
    "  \n",
    "* Time Series\n",
    "  - financial\n",
    "  - log analysis\n",
    "  - supply chain\n",
    "  - IoT\n",
    " \n",
    "* Recommendation Engines \n",
    "  - Social Meida"
   ]
  },
  {
   "cell_type": "markdown",
   "metadata": {
    "colab_type": "text",
    "id": "STZg1LvYzIy-"
   },
   "source": [
    "### Deep Learning AMIs"
   ]
  },
  {
   "cell_type": "markdown",
   "metadata": {
    "colab_type": "text",
    "id": "BgtE7QetN__U"
   },
   "source": [
    "\n",
    "\n",
    "* Three Styles of Deep Learning AMIs\n",
    "  - Conda-based AMI\n",
    "  - Base AMI\n",
    "  - AMIs with source code\n",
    "* Available \"Pay as you Go\" (On Demand)\n",
    "* Available \"Spot Instance\"\n",
    "* Can perform [\"Multi-GPU training\"](https://docs.aws.amazon.com/dlami/latest/devguide/keras-mxnet.html)\n",
    "* Preloaded with Frameworks\n",
    "![DL Frameworks](https://user-images.githubusercontent.com/58792/48965039-24562f80-ef6a-11e8-9dc2-1b384bbfc610.png)\n",
    "\n"
   ]
  },
  {
   "cell_type": "code",
   "execution_count": 0,
   "metadata": {
    "colab": {},
    "colab_type": "code",
    "collapsed": true,
    "id": "vv5c-aLoPwSS"
   },
   "outputs": [],
   "source": []
  }
 ],
 "metadata": {
  "colab": {
   "collapsed_sections": [
    "bq4VmHjPpMOR",
    "SDAq-AnzLNHW",
    "seXc9BlVLZpz",
    "mXxBpaedOfvv",
    "HWCc2hTbOf2p",
    "WMmgxYymPCP3",
    "UzOX1NXvVajB",
    "j_gRca1vByuL",
    "jhSFhnKtDawl",
    "g2DKkOCHDaz4",
    "1hrzi0nhDa3V",
    "fCPtd7bADa6X",
    "qYo_cbnYxnuJ",
    "hLSEMuz10NGN",
    "za1xZSvx0Sk1",
    "NxvHaJX80Z3k",
    "cdytodb53dlL",
    "OMNcsGAwyyM7",
    "R0to0Hr3yyQE",
    "3XzlNBqRyyWj",
    "kD9MppHKy5Ma",
    "JFK7Q6MBy9Yj",
    "s2HmQ3Q0zAW4",
    "VdKJTV38igkg",
    "jsvkrxtAjdoT",
    "HB0gINZRkPTP",
    "pxmnqaDlz5O6",
    "4LyfP2iVMSHz",
    "STZg1LvYzIy-"
   ],
   "name": "Lesson4-AWSML-Modeling.ipynb",
   "provenance": [],
   "version": "0.3.2"
  },
  "kernelspec": {
   "display_name": "Python 3",
   "language": "python",
   "name": "python3"
  },
  "language_info": {
   "codemirror_mode": {
    "name": "ipython",
    "version": 3
   },
   "file_extension": ".py",
   "mimetype": "text/x-python",
   "name": "python",
   "nbconvert_exporter": "python",
   "pygments_lexer": "ipython3",
   "version": "3.6.3"
  }
 },
 "nbformat": 4,
 "nbformat_minor": 1
}
