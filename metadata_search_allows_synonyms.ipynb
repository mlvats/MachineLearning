{
 "cells": [
  {
   "cell_type": "code",
   "execution_count": 6,
   "metadata": {},
   "outputs": [],
   "source": [
    "import pandas as pd\n",
    "from sklearn.feature_extraction.text import TfidfVectorizer\n",
    "from sklearn.metrics.pairwise import cosine_similarity\n",
    "from nltk.corpus import wordnet\n",
    "\n",
    "# Step 1: Load and preprocess the metadata\n",
    "\n",
    "# Load metadata from a CSV file\n",
    "metadata = pd.read_csv('metadata.csv')"
   ]
  },
  {
   "cell_type": "code",
   "execution_count": 7,
   "metadata": {},
   "outputs": [
    {
     "data": {
      "text/html": [
       "<div>\n",
       "<style scoped>\n",
       "    .dataframe tbody tr th:only-of-type {\n",
       "        vertical-align: middle;\n",
       "    }\n",
       "\n",
       "    .dataframe tbody tr th {\n",
       "        vertical-align: top;\n",
       "    }\n",
       "\n",
       "    .dataframe thead th {\n",
       "        text-align: right;\n",
       "    }\n",
       "</style>\n",
       "<table border=\"1\" class=\"dataframe\">\n",
       "  <thead>\n",
       "    <tr style=\"text-align: right;\">\n",
       "      <th></th>\n",
       "      <th>title</th>\n",
       "      <th>business_metadata</th>\n",
       "      <th>technical_metadata</th>\n",
       "    </tr>\n",
       "  </thead>\n",
       "  <tbody>\n",
       "    <tr>\n",
       "      <th>0</th>\n",
       "      <td>Customer Analysis</td>\n",
       "      <td>Customer segmentation and behavior analysis</td>\n",
       "      <td>Database: sales_data  Schema: analytics  Table...</td>\n",
       "    </tr>\n",
       "    <tr>\n",
       "      <th>1</th>\n",
       "      <td>Sales Performance</td>\n",
       "      <td>Sales performance metrics and KPIs</td>\n",
       "      <td>Database: sales_data  Schema: analytics  Table...</td>\n",
       "    </tr>\n",
       "    <tr>\n",
       "      <th>2</th>\n",
       "      <td>Product Inventory</td>\n",
       "      <td>Inventory management and stock levels</td>\n",
       "      <td>Database: inventory_data  Schema: products  Ta...</td>\n",
       "    </tr>\n",
       "    <tr>\n",
       "      <th>3</th>\n",
       "      <td>Financial Reports</td>\n",
       "      <td>Financial statements and reports</td>\n",
       "      <td>Database: finance_data  Schema: reports  Table...</td>\n",
       "    </tr>\n",
       "    <tr>\n",
       "      <th>4</th>\n",
       "      <td>Website Analytics</td>\n",
       "      <td>Website traffic and user behavior data</td>\n",
       "      <td>Database: web_data  Schema: analytics  Table: ...</td>\n",
       "    </tr>\n",
       "  </tbody>\n",
       "</table>\n",
       "</div>"
      ],
      "text/plain": [
       "               title                            business_metadata  \\\n",
       "0  Customer Analysis  Customer segmentation and behavior analysis   \n",
       "1  Sales Performance           Sales performance metrics and KPIs   \n",
       "2  Product Inventory        Inventory management and stock levels   \n",
       "3  Financial Reports             Financial statements and reports   \n",
       "4  Website Analytics       Website traffic and user behavior data   \n",
       "\n",
       "                                  technical_metadata  \n",
       "0  Database: sales_data  Schema: analytics  Table...  \n",
       "1  Database: sales_data  Schema: analytics  Table...  \n",
       "2  Database: inventory_data  Schema: products  Ta...  \n",
       "3  Database: finance_data  Schema: reports  Table...  \n",
       "4  Database: web_data  Schema: analytics  Table: ...  "
      ]
     },
     "execution_count": 7,
     "metadata": {},
     "output_type": "execute_result"
    }
   ],
   "source": [
    "metadata"
   ]
  },
  {
   "cell_type": "code",
   "execution_count": 8,
   "metadata": {},
   "outputs": [
    {
     "data": {
      "text/html": [
       "<div>\n",
       "<style scoped>\n",
       "    .dataframe tbody tr th:only-of-type {\n",
       "        vertical-align: middle;\n",
       "    }\n",
       "\n",
       "    .dataframe tbody tr th {\n",
       "        vertical-align: top;\n",
       "    }\n",
       "\n",
       "    .dataframe thead th {\n",
       "        text-align: right;\n",
       "    }\n",
       "</style>\n",
       "<table border=\"1\" class=\"dataframe\">\n",
       "  <thead>\n",
       "    <tr style=\"text-align: right;\">\n",
       "      <th></th>\n",
       "      <th>title</th>\n",
       "      <th>business_metadata</th>\n",
       "      <th>technical_metadata</th>\n",
       "      <th>combined_metadata</th>\n",
       "    </tr>\n",
       "  </thead>\n",
       "  <tbody>\n",
       "    <tr>\n",
       "      <th>0</th>\n",
       "      <td>Customer Analysis</td>\n",
       "      <td>Customer segmentation and behavior analysis</td>\n",
       "      <td>Database: sales_data  Schema: analytics  Table...</td>\n",
       "      <td>Customer Analysis Customer segmentation and be...</td>\n",
       "    </tr>\n",
       "    <tr>\n",
       "      <th>1</th>\n",
       "      <td>Sales Performance</td>\n",
       "      <td>Sales performance metrics and KPIs</td>\n",
       "      <td>Database: sales_data  Schema: analytics  Table...</td>\n",
       "      <td>Sales Performance Sales performance metrics an...</td>\n",
       "    </tr>\n",
       "    <tr>\n",
       "      <th>2</th>\n",
       "      <td>Product Inventory</td>\n",
       "      <td>Inventory management and stock levels</td>\n",
       "      <td>Database: inventory_data  Schema: products  Ta...</td>\n",
       "      <td>Product Inventory Inventory management and sto...</td>\n",
       "    </tr>\n",
       "    <tr>\n",
       "      <th>3</th>\n",
       "      <td>Financial Reports</td>\n",
       "      <td>Financial statements and reports</td>\n",
       "      <td>Database: finance_data  Schema: reports  Table...</td>\n",
       "      <td>Financial Reports Financial statements and rep...</td>\n",
       "    </tr>\n",
       "    <tr>\n",
       "      <th>4</th>\n",
       "      <td>Website Analytics</td>\n",
       "      <td>Website traffic and user behavior data</td>\n",
       "      <td>Database: web_data  Schema: analytics  Table: ...</td>\n",
       "      <td>Website Analytics Website traffic and user beh...</td>\n",
       "    </tr>\n",
       "  </tbody>\n",
       "</table>\n",
       "</div>"
      ],
      "text/plain": [
       "               title                            business_metadata  \\\n",
       "0  Customer Analysis  Customer segmentation and behavior analysis   \n",
       "1  Sales Performance           Sales performance metrics and KPIs   \n",
       "2  Product Inventory        Inventory management and stock levels   \n",
       "3  Financial Reports             Financial statements and reports   \n",
       "4  Website Analytics       Website traffic and user behavior data   \n",
       "\n",
       "                                  technical_metadata  \\\n",
       "0  Database: sales_data  Schema: analytics  Table...   \n",
       "1  Database: sales_data  Schema: analytics  Table...   \n",
       "2  Database: inventory_data  Schema: products  Ta...   \n",
       "3  Database: finance_data  Schema: reports  Table...   \n",
       "4  Database: web_data  Schema: analytics  Table: ...   \n",
       "\n",
       "                                   combined_metadata  \n",
       "0  Customer Analysis Customer segmentation and be...  \n",
       "1  Sales Performance Sales performance metrics an...  \n",
       "2  Product Inventory Inventory management and sto...  \n",
       "3  Financial Reports Financial statements and rep...  \n",
       "4  Website Analytics Website traffic and user beh...  "
      ]
     },
     "execution_count": 8,
     "metadata": {},
     "output_type": "execute_result"
    }
   ],
   "source": [
    "# Combine relevant metadata fields into a single text field\n",
    "metadata['combined_metadata'] = metadata['title'] + ' ' + metadata['business_metadata'] + ' ' + metadata['technical_metadata']\n",
    "metadata"
   ]
  },
  {
   "cell_type": "code",
   "execution_count": 9,
   "metadata": {},
   "outputs": [],
   "source": [
    "# Step 2: Define a function to generate synonyms for a given query term\n",
    "\n",
    "def generate_synonyms(query_term):\n",
    "    synonyms = []\n",
    "    for syn in wordnet.synsets(query_term):\n",
    "        for lemma in syn.lemmas():\n",
    "            synonyms.append(lemma.name())\n",
    "    return synonyms"
   ]
  },
  {
   "cell_type": "code",
   "execution_count": 11,
   "metadata": {},
   "outputs": [],
   "source": [
    "# Step 3: Define a function to perform the search\n",
    "\n",
    "def perform_search(query):\n",
    "    # Generate synonyms for the query terms\n",
    "    synonyms = []\n",
    "    for term in query.split():\n",
    "        synonyms.extend(generate_synonyms(term))\n",
    "        \n",
    "    print(synonyms)\n",
    "    \n",
    "    # Combine query terms and synonyms\n",
    "    search_terms = query + ' ' + ' '.join(synonyms)\n",
    "    \n",
    "    # Create TF-IDF vectors for the metadata\n",
    "    vectorizer = TfidfVectorizer()\n",
    "    metadata_vectors = vectorizer.fit_transform(metadata['combined_metadata'])\n",
    "    \n",
    "    # Create a vector for the search query\n",
    "    query_vector = vectorizer.transform([search_terms])\n",
    "    \n",
    "    # Compute cosine similarity between query vector and metadata vectors\n",
    "    similarities = cosine_similarity(query_vector, metadata_vectors).flatten()\n",
    "    \n",
    "    # Sort the metadata indices based on similarity scores\n",
    "    indices = similarities.argsort()[::-1]\n",
    "    \n",
    "    # Retrieve the top relevant metadata entries\n",
    "    top_metadata = metadata.iloc[indices][:5]\n",
    "    \n",
    "    return top_metadata"
   ]
  },
  {
   "cell_type": "code",
   "execution_count": 12,
   "metadata": {},
   "outputs": [
    {
     "name": "stdout",
     "output_type": "stream",
     "text": [
      "['customer', 'client', 'analysis', 'analysis', 'analytic_thinking', 'analysis', 'analysis', 'analysis', 'psychoanalysis', 'analysis', 'depth_psychology']\n",
      "Search Results:\n",
      "               title                            business_metadata  \\\n",
      "0  Customer Analysis  Customer segmentation and behavior analysis   \n",
      "4  Website Analytics       Website traffic and user behavior data   \n",
      "3  Financial Reports             Financial statements and reports   \n",
      "2  Product Inventory        Inventory management and stock levels   \n",
      "1  Sales Performance           Sales performance metrics and KPIs   \n",
      "\n",
      "                                  technical_metadata  \n",
      "0  Database: sales_data  Schema: analytics  Table...  \n",
      "4  Database: web_data  Schema: analytics  Table: ...  \n",
      "3  Database: finance_data  Schema: reports  Table...  \n",
      "2  Database: inventory_data  Schema: products  Ta...  \n",
      "1  Database: sales_data  Schema: analytics  Table...  \n"
     ]
    }
   ],
   "source": [
    "# Step 4: Perform a search using the model\n",
    "\n",
    "# Define the search query\n",
    "query = \"customer analysis\"\n",
    "\n",
    "# Perform the search\n",
    "results = perform_search(query)\n",
    "\n",
    "# Display the search results\n",
    "print(\"Search Results:\")\n",
    "print(results[['title', 'business_metadata', 'technical_metadata']])"
   ]
  },
  {
   "cell_type": "code",
   "execution_count": 15,
   "metadata": {},
   "outputs": [
    {
     "data": {
      "text/plain": [
       "['customer', 'client']"
      ]
     },
     "execution_count": 15,
     "metadata": {},
     "output_type": "execute_result"
    }
   ],
   "source": [
    "generate_synonyms(\"customer\")"
   ]
  },
  {
   "cell_type": "code",
   "execution_count": 16,
   "metadata": {},
   "outputs": [
    {
     "data": {
      "text/plain": [
       "['analysis',\n",
       " 'analysis',\n",
       " 'analytic_thinking',\n",
       " 'analysis',\n",
       " 'analysis',\n",
       " 'analysis',\n",
       " 'psychoanalysis',\n",
       " 'analysis',\n",
       " 'depth_psychology']"
      ]
     },
     "execution_count": 16,
     "metadata": {},
     "output_type": "execute_result"
    }
   ],
   "source": [
    "generate_synonyms(\"analysis\")"
   ]
  },
  {
   "cell_type": "code",
   "execution_count": null,
   "metadata": {},
   "outputs": [],
   "source": []
  }
 ],
 "metadata": {
  "kernelspec": {
   "display_name": "Python 3",
   "language": "python",
   "name": "python3"
  },
  "language_info": {
   "codemirror_mode": {
    "name": "ipython",
    "version": 3
   },
   "file_extension": ".py",
   "mimetype": "text/x-python",
   "name": "python",
   "nbconvert_exporter": "python",
   "pygments_lexer": "ipython3",
   "version": "3.7.6"
  }
 },
 "nbformat": 4,
 "nbformat_minor": 4
}
