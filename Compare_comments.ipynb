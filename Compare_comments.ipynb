{
 "cells": [
  {
   "cell_type": "code",
   "execution_count": 3,
   "metadata": {},
   "outputs": [],
   "source": [
    "import nltk\n",
    "from nltk.corpus import stopwords\n",
    "from nltk.tokenize import word_tokenize\n",
    "from gensim.models import Word2Vec"
   ]
  },
  {
   "cell_type": "code",
   "execution_count": 4,
   "metadata": {},
   "outputs": [],
   "source": [
    "#!pip install gensim"
   ]
  },
  {
   "cell_type": "code",
   "execution_count": 7,
   "metadata": {},
   "outputs": [
    {
     "name": "stderr",
     "output_type": "stream",
     "text": [
      "[nltk_data] Downloading package stopwords to\n",
      "[nltk_data]     C:\\Users\\Tannu\\AppData\\Roaming\\nltk_data...\n",
      "[nltk_data]   Unzipping corpora\\stopwords.zip.\n"
     ]
    },
    {
     "data": {
      "text/plain": [
       "True"
      ]
     },
     "execution_count": 7,
     "metadata": {},
     "output_type": "execute_result"
    }
   ],
   "source": [
    "nltk.download('stopwords')"
   ]
  },
  {
   "cell_type": "code",
   "execution_count": 13,
   "metadata": {},
   "outputs": [
    {
     "name": "stderr",
     "output_type": "stream",
     "text": [
      "[nltk_data] Downloading package punkt to\n",
      "[nltk_data]     C:\\Users\\Tannu\\AppData\\Roaming\\nltk_data...\n",
      "[nltk_data]   Unzipping tokenizers\\punkt.zip.\n"
     ]
    },
    {
     "data": {
      "text/plain": [
       "True"
      ]
     },
     "execution_count": 13,
     "metadata": {},
     "output_type": "execute_result"
    }
   ],
   "source": [
    " nltk.download('punkt')"
   ]
  },
  {
   "cell_type": "code",
   "execution_count": 8,
   "metadata": {},
   "outputs": [],
   "source": [
    "# Example metadata field descriptions\n",
    "metadata_fields = [\n",
    "    \"This field captures the customer's name and surname.\",\n",
    "    \"It stores the full name of the customer.\",\n",
    "    \"Captures the customer's first and last name.\",\n",
    "    \"This field contains the customer's name and last name.\",\n",
    "    \"Stores the customer's full name.\"\n",
    "]\n",
    "\n",
    "# Preprocessing\n",
    "stop_words = set(stopwords.words('english'))"
   ]
  },
  {
   "cell_type": "code",
   "execution_count": 10,
   "metadata": {},
   "outputs": [],
   "source": [
    "def preprocess_text(text):\n",
    "    # Tokenize the text\n",
    "    tokens = word_tokenize(text.lower())\n",
    "  \n",
    "    # Remove stopwords and punctuation\n",
    "    filtered_tokens = [token for token in tokens if token.isalnum() and token not in stop_words]\n",
    "  \n",
    "    return filtered_tokens"
   ]
  },
  {
   "cell_type": "code",
   "execution_count": 14,
   "metadata": {},
   "outputs": [],
   "source": [
    "preprocessed_fields = [preprocess_text(field) for field in metadata_fields]"
   ]
  },
  {
   "cell_type": "code",
   "execution_count": 15,
   "metadata": {},
   "outputs": [
    {
     "data": {
      "text/plain": [
       "[['field', 'captures', 'customer', 'name', 'surname'],\n",
       " ['stores', 'full', 'name', 'customer'],\n",
       " ['captures', 'customer', 'first', 'last', 'name'],\n",
       " ['field', 'contains', 'customer', 'name', 'last', 'name'],\n",
       " ['stores', 'customer', 'full', 'name']]"
      ]
     },
     "execution_count": 15,
     "metadata": {},
     "output_type": "execute_result"
    }
   ],
   "source": [
    "preprocessed_fields"
   ]
  },
  {
   "cell_type": "code",
   "execution_count": 16,
   "metadata": {},
   "outputs": [],
   "source": [
    "# Training Word2Vec model\n",
    "model = Word2Vec(preprocessed_fields, min_count=1)"
   ]
  },
  {
   "cell_type": "code",
   "execution_count": 17,
   "metadata": {},
   "outputs": [],
   "source": [
    "# Define a similarity threshold\n",
    "similarity_threshold = 0.9"
   ]
  },
  {
   "cell_type": "code",
   "execution_count": 21,
   "metadata": {},
   "outputs": [
    {
     "name": "stdout",
     "output_type": "stream",
     "text": [
      "desc 1 : ['field', 'captures', 'customer', 'name', 'surname']\n",
      "desc 2 :  ['stores', 'full', 'name', 'customer']\n",
      "similarity score :  0.44512668\n",
      "desc 1 : ['field', 'captures', 'customer', 'name', 'surname']\n",
      "desc 2 :  ['captures', 'customer', 'first', 'last', 'name']\n",
      "similarity score :  0.625938\n",
      "desc 1 : ['field', 'captures', 'customer', 'name', 'surname']\n",
      "desc 2 :  ['field', 'contains', 'customer', 'name', 'last', 'name']\n",
      "similarity score :  0.62885535\n",
      "desc 1 : ['field', 'captures', 'customer', 'name', 'surname']\n",
      "desc 2 :  ['stores', 'customer', 'full', 'name']\n",
      "similarity score :  0.4451267\n",
      "desc 1 : ['stores', 'full', 'name', 'customer']\n",
      "desc 2 :  ['captures', 'customer', 'first', 'last', 'name']\n",
      "similarity score :  0.49574012\n",
      "desc 1 : ['stores', 'full', 'name', 'customer']\n",
      "desc 2 :  ['field', 'contains', 'customer', 'name', 'last', 'name']\n",
      "similarity score :  0.5024625\n",
      "desc 1 : ['stores', 'full', 'name', 'customer']\n",
      "desc 2 :  ['stores', 'customer', 'full', 'name']\n",
      "similarity score :  1.0\n",
      "desc 1 : ['captures', 'customer', 'first', 'last', 'name']\n",
      "desc 2 :  ['field', 'contains', 'customer', 'name', 'last', 'name']\n",
      "similarity score :  0.5709492\n",
      "desc 1 : ['captures', 'customer', 'first', 'last', 'name']\n",
      "desc 2 :  ['stores', 'customer', 'full', 'name']\n",
      "similarity score :  0.49574018\n",
      "desc 1 : ['field', 'contains', 'customer', 'name', 'last', 'name']\n",
      "desc 2 :  ['stores', 'customer', 'full', 'name']\n",
      "similarity score :  0.5024625\n"
     ]
    }
   ],
   "source": [
    "# Compare descriptions\n",
    "similar_fields = []\n",
    "\n",
    "for i in range(len(metadata_fields)):\n",
    "    for j in range(i+1, len(metadata_fields)):\n",
    "        desc1 = preprocessed_fields[i]\n",
    "        desc2 = preprocessed_fields[j]\n",
    "        similarity_score = model.wv.n_similarity(desc1, desc2)\n",
    "        \n",
    "        print(\"desc 1 :\" , desc1)\n",
    "        print(\"desc 2 : \" , desc2)\n",
    "        print(\"similarity score : \" , similarity_score)\n",
    "        \n",
    "        if similarity_score >= similarity_threshold:\n",
    "            similar_fields.append((metadata_fields[i], metadata_fields[j]))"
   ]
  },
  {
   "cell_type": "code",
   "execution_count": 18,
   "metadata": {},
   "outputs": [
    {
     "data": {
      "text/plain": [
       "5"
      ]
     },
     "execution_count": 18,
     "metadata": {},
     "output_type": "execute_result"
    }
   ],
   "source": [
    "(len(metadata_fields))"
   ]
  },
  {
   "cell_type": "code",
   "execution_count": 25,
   "metadata": {},
   "outputs": [
    {
     "data": {
      "text/plain": [
       "0.5712781"
      ]
     },
     "execution_count": 25,
     "metadata": {},
     "output_type": "execute_result"
    }
   ],
   "source": [
    "desc1 = ['field', 'capture', 'customer','surname']\n",
    "desc2 = ['fields', 'captures', 'customer', 'name', 'surname']\n",
    "x = model.wv.n_similarity(desc1, desc2)\n",
    "x"
   ]
  },
  {
   "cell_type": "code",
   "execution_count": 26,
   "metadata": {},
   "outputs": [
    {
     "name": "stdout",
     "output_type": "stream",
     "text": [
      "Field 1:  It stores the full name of the customer.\n",
      "Field 2:  Stores the customer's full name.\n",
      "\n"
     ]
    }
   ],
   "source": [
    "# Print the similar field pairs\n",
    "for pair in similar_fields:\n",
    "    print(\"Field 1: \", pair[0])\n",
    "    print(\"Field 2: \", pair[1])\n",
    "    print()"
   ]
  },
  {
   "cell_type": "code",
   "execution_count": 29,
   "metadata": {},
   "outputs": [],
   "source": [
    "# Compare descriptions\n",
    "similar_fields = []\n",
    "\n",
    "for i in range(len(metadata_fields)):\n",
    "    for j in range(i+1, len(metadata_fields)):\n",
    "        desc1 = preprocessed_fields[i]\n",
    "        desc2 = preprocessed_fields[j]\n",
    "        similarity_score = model.wv.n_similarity(desc1, desc2)\n",
    "        similar_fields.append((metadata_fields[i], metadata_fields[j], similarity_score))"
   ]
  },
  {
   "cell_type": "code",
   "execution_count": 30,
   "metadata": {},
   "outputs": [
    {
     "name": "stdout",
     "output_type": "stream",
     "text": [
      "Field 1:  This field captures the customer's name and surname.\n",
      "Field 2:  It stores the full name of the customer.\n",
      "Similarity Score:  0.44512668\n",
      "\n",
      "Field 1:  This field captures the customer's name and surname.\n",
      "Field 2:  Captures the customer's first and last name.\n",
      "Similarity Score:  0.625938\n",
      "\n",
      "Field 1:  This field captures the customer's name and surname.\n",
      "Field 2:  This field contains the customer's name and last name.\n",
      "Similarity Score:  0.62885535\n",
      "\n",
      "Field 1:  This field captures the customer's name and surname.\n",
      "Field 2:  Stores the customer's full name.\n",
      "Similarity Score:  0.4451267\n",
      "\n",
      "Field 1:  It stores the full name of the customer.\n",
      "Field 2:  Captures the customer's first and last name.\n",
      "Similarity Score:  0.49574012\n",
      "\n",
      "Field 1:  It stores the full name of the customer.\n",
      "Field 2:  This field contains the customer's name and last name.\n",
      "Similarity Score:  0.5024625\n",
      "\n",
      "Field 1:  It stores the full name of the customer.\n",
      "Field 2:  Stores the customer's full name.\n",
      "Similarity Score:  1.0\n",
      "\n",
      "Field 1:  Captures the customer's first and last name.\n",
      "Field 2:  This field contains the customer's name and last name.\n",
      "Similarity Score:  0.5709492\n",
      "\n",
      "Field 1:  Captures the customer's first and last name.\n",
      "Field 2:  Stores the customer's full name.\n",
      "Similarity Score:  0.49574018\n",
      "\n",
      "Field 1:  This field contains the customer's name and last name.\n",
      "Field 2:  Stores the customer's full name.\n",
      "Similarity Score:  0.5024625\n",
      "\n"
     ]
    }
   ],
   "source": [
    "# Print the similar field pairs\n",
    "for pair in similar_fields:\n",
    "    print(\"Field 1: \", pair[0])\n",
    "    print(\"Field 2: \", pair[1])\n",
    "    print(\"Similarity Score: \", pair[2])\n",
    "    print()"
   ]
  },
  {
   "cell_type": "code",
   "execution_count": null,
   "metadata": {},
   "outputs": [],
   "source": []
  }
 ],
 "metadata": {
  "kernelspec": {
   "display_name": "Python 3",
   "language": "python",
   "name": "python3"
  },
  "language_info": {
   "codemirror_mode": {
    "name": "ipython",
    "version": 3
   },
   "file_extension": ".py",
   "mimetype": "text/x-python",
   "name": "python",
   "nbconvert_exporter": "python",
   "pygments_lexer": "ipython3",
   "version": "3.7.6"
  }
 },
 "nbformat": 4,
 "nbformat_minor": 4
}
