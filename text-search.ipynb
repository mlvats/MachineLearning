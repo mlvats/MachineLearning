{
 "cells": [
  {
   "cell_type": "code",
   "execution_count": 5,
   "metadata": {},
   "outputs": [],
   "source": [
    "import pandas as pd\n",
    "from sklearn.feature_extraction.text import CountVectorizer\n",
    "from sklearn.metrics.pairwise import cosine_similarity\n",
    "\n",
    "# Step 1: Load and preprocess the data\n",
    "metadata = pd.read_csv('metadata_1.csv')  # Assuming metadata is stored in a CSV file\n"
   ]
  },
  {
   "cell_type": "code",
   "execution_count": 6,
   "metadata": {},
   "outputs": [
    {
     "data": {
      "text/html": [
       "<div>\n",
       "<style scoped>\n",
       "    .dataframe tbody tr th:only-of-type {\n",
       "        vertical-align: middle;\n",
       "    }\n",
       "\n",
       "    .dataframe tbody tr th {\n",
       "        vertical-align: top;\n",
       "    }\n",
       "\n",
       "    .dataframe thead th {\n",
       "        text-align: right;\n",
       "    }\n",
       "</style>\n",
       "<table border=\"1\" class=\"dataframe\">\n",
       "  <thead>\n",
       "    <tr style=\"text-align: right;\">\n",
       "      <th></th>\n",
       "      <th>title</th>\n",
       "      <th>author</th>\n",
       "      <th>description</th>\n",
       "    </tr>\n",
       "  </thead>\n",
       "  <tbody>\n",
       "    <tr>\n",
       "      <th>0</th>\n",
       "      <td>Book Title 1</td>\n",
       "      <td>Author 1</td>\n",
       "      <td>This is a book about programming and algorithms.</td>\n",
       "    </tr>\n",
       "    <tr>\n",
       "      <th>1</th>\n",
       "      <td>Book Title 2</td>\n",
       "      <td>Author 2</td>\n",
       "      <td>Explore the world of art with this captivating...</td>\n",
       "    </tr>\n",
       "    <tr>\n",
       "      <th>2</th>\n",
       "      <td>Book Title 3</td>\n",
       "      <td>Author 3</td>\n",
       "      <td>A comprehensive guide to mastering the stock m...</td>\n",
       "    </tr>\n",
       "    <tr>\n",
       "      <th>3</th>\n",
       "      <td>Book Title 4</td>\n",
       "      <td>Author 4</td>\n",
       "      <td>Discover the wonders of nature through stunnin...</td>\n",
       "    </tr>\n",
       "    <tr>\n",
       "      <th>4</th>\n",
       "      <td>Book Title 5</td>\n",
       "      <td>Author 5</td>\n",
       "      <td>A fascinating account of historical events tha...</td>\n",
       "    </tr>\n",
       "  </tbody>\n",
       "</table>\n",
       "</div>"
      ],
      "text/plain": [
       "          title    author                                        description\n",
       "0  Book Title 1  Author 1   This is a book about programming and algorithms.\n",
       "1  Book Title 2  Author 2  Explore the world of art with this captivating...\n",
       "2  Book Title 3  Author 3  A comprehensive guide to mastering the stock m...\n",
       "3  Book Title 4  Author 4  Discover the wonders of nature through stunnin...\n",
       "4  Book Title 5  Author 5  A fascinating account of historical events tha..."
      ]
     },
     "execution_count": 6,
     "metadata": {},
     "output_type": "execute_result"
    }
   ],
   "source": [
    "metadata"
   ]
  },
  {
   "cell_type": "code",
   "execution_count": 7,
   "metadata": {},
   "outputs": [],
   "source": [
    "import re\n",
    "import string\n",
    "from nltk.corpus import stopwords\n",
    "from nltk.stem import WordNetLemmatizer\n",
    "from nltk.tokenize import word_tokenize\n",
    "\n",
    "def preprocess_text(text):\n",
    "    # Remove punctuation\n",
    "    text = text.translate(str.maketrans('', '', string.punctuation))\n",
    "\n",
    "    # Convert to lowercase\n",
    "    text = text.lower()\n",
    "\n",
    "    # Tokenize text into words\n",
    "    words = word_tokenize(text)\n",
    "\n",
    "    # Remove stopwords\n",
    "    stop_words = set(stopwords.words('english'))\n",
    "    words = [word for word in words if word not in stop_words]\n",
    "\n",
    "    # Lemmatize words\n",
    "    lemmatizer = WordNetLemmatizer()\n",
    "    words = [lemmatizer.lemmatize(word) for word in words]\n",
    "\n",
    "    # Join the words back into a single string\n",
    "    processed_text = ' '.join(words)\n",
    "\n",
    "    return processed_text"
   ]
  },
  {
   "cell_type": "code",
   "execution_count": 8,
   "metadata": {},
   "outputs": [],
   "source": [
    "# Step 2: Prepare the data\n",
    "metadata['preprocessed_text'] = metadata['description'].apply(preprocess_text)\n"
   ]
  },
  {
   "cell_type": "code",
   "execution_count": 9,
   "metadata": {},
   "outputs": [
    {
     "data": {
      "text/plain": [
       "0     This is a book about programming and algorithms.\n",
       "1    Explore the world of art with this captivating...\n",
       "2    A comprehensive guide to mastering the stock m...\n",
       "3    Discover the wonders of nature through stunnin...\n",
       "4    A fascinating account of historical events tha...\n",
       "Name: description, dtype: object"
      ]
     },
     "execution_count": 9,
     "metadata": {},
     "output_type": "execute_result"
    }
   ],
   "source": [
    "metadata['description']"
   ]
  },
  {
   "cell_type": "code",
   "execution_count": 10,
   "metadata": {},
   "outputs": [
    {
     "data": {
      "text/plain": [
       "0                           book programming algorithm\n",
       "1                   explore world art captivating book\n",
       "2           comprehensive guide mastering stock market\n",
       "3           discover wonder nature stunning photograph\n",
       "4    fascinating account historical event shaped world\n",
       "Name: preprocessed_text, dtype: object"
      ]
     },
     "execution_count": 10,
     "metadata": {},
     "output_type": "execute_result"
    }
   ],
   "source": [
    "metadata['preprocessed_text']"
   ]
  },
  {
   "cell_type": "code",
   "execution_count": 11,
   "metadata": {},
   "outputs": [
    {
     "name": "stderr",
     "output_type": "stream",
     "text": [
      "[nltk_data] Downloading package punkt to\n",
      "[nltk_data]     C:\\Users\\Tannu\\AppData\\Roaming\\nltk_data...\n",
      "[nltk_data]   Package punkt is already up-to-date!\n",
      "[nltk_data] Downloading package stopwords to\n",
      "[nltk_data]     C:\\Users\\Tannu\\AppData\\Roaming\\nltk_data...\n",
      "[nltk_data]   Package stopwords is already up-to-date!\n",
      "[nltk_data] Downloading package wordnet to\n",
      "[nltk_data]     C:\\Users\\Tannu\\AppData\\Roaming\\nltk_data...\n",
      "[nltk_data]   Package wordnet is already up-to-date!\n"
     ]
    },
    {
     "data": {
      "text/plain": [
       "True"
      ]
     },
     "execution_count": 11,
     "metadata": {},
     "output_type": "execute_result"
    }
   ],
   "source": [
    "import nltk\n",
    "\n",
    "nltk.download('punkt')\n",
    "nltk.download('stopwords')\n",
    "nltk.download('wordnet')"
   ]
  },
  {
   "cell_type": "code",
   "execution_count": 12,
   "metadata": {},
   "outputs": [],
   "source": [
    "# Step 3: Define the search query\n",
    "query = \"stock market\"  # Replace with your actual search query\n",
    "\n",
    "# Step 4: Vectorize the metadata\n",
    "vectorizer = CountVectorizer()\n",
    "metadata_vectorized = vectorizer.fit_transform(metadata['preprocessed_text'])\n",
    "\n",
    "# Step 5: Vectorize the search query\n",
    "query_vectorized = vectorizer.transform([preprocess_text(query)])"
   ]
  },
  {
   "cell_type": "code",
   "execution_count": 13,
   "metadata": {},
   "outputs": [
    {
     "data": {
      "text/plain": [
       "<1x22 sparse matrix of type '<class 'numpy.int64'>'\n",
       "\twith 2 stored elements in Compressed Sparse Row format>"
      ]
     },
     "execution_count": 13,
     "metadata": {},
     "output_type": "execute_result"
    }
   ],
   "source": [
    "query_vectorized"
   ]
  },
  {
   "cell_type": "code",
   "execution_count": 14,
   "metadata": {},
   "outputs": [
    {
     "data": {
      "text/plain": [
       "array([[0.        , 0.        , 0.63245553, 0.        , 0.        ]])"
      ]
     },
     "execution_count": 14,
     "metadata": {},
     "output_type": "execute_result"
    }
   ],
   "source": [
    "# Step 6: Compute cosine similarity\n",
    "similarity_scores = cosine_similarity(query_vectorized, metadata_vectorized)\n",
    "similarity_scores"
   ]
  },
  {
   "cell_type": "code",
   "execution_count": 15,
   "metadata": {},
   "outputs": [
    {
     "name": "stdout",
     "output_type": "stream",
     "text": [
      "Most relevant metadata:\n",
      "Title: Book Title 3\n",
      "Author: Author 3\n",
      "Description: A comprehensive guide to mastering the stock market.\n"
     ]
    }
   ],
   "source": [
    "# Step 7: Get the most relevant metadata\n",
    "most_similar_index = similarity_scores.argmax()\n",
    "most_similar_metadata = metadata.iloc[most_similar_index]\n",
    "\n",
    "# Step 8: Print the most relevant metadata\n",
    "print(\"Most relevant metadata:\")\n",
    "print(\"Title:\", most_similar_metadata['title'])\n",
    "print(\"Author:\", most_similar_metadata['author'])\n",
    "print(\"Description:\", most_similar_metadata['description'])\n"
   ]
  },
  {
   "cell_type": "code",
   "execution_count": 16,
   "metadata": {},
   "outputs": [
    {
     "name": "stdout",
     "output_type": "stream",
     "text": [
      "Most relevant metadata:\n",
      "Title: Book Title 5\n",
      "Author: Author 5\n",
      "Description: A fascinating account of historical events that shaped our world.\n"
     ]
    }
   ],
   "source": [
    "query = \"historical\"\n",
    "query_vectorized = vectorizer.transform([preprocess_text(query)])\n",
    "similarity_scores = cosine_similarity(query_vectorized, metadata_vectorized)\n",
    "most_similar_index = similarity_scores.argmax()\n",
    "most_similar_metadata = metadata.iloc[most_similar_index]\n",
    "\n",
    "# Step 8: Print the most relevant metadata\n",
    "print(\"Most relevant metadata:\")\n",
    "print(\"Title:\", most_similar_metadata['title'])\n",
    "print(\"Author:\", most_similar_metadata['author'])\n",
    "print(\"Description:\", most_similar_metadata['description'])"
   ]
  },
  {
   "cell_type": "code",
   "execution_count": 18,
   "metadata": {},
   "outputs": [],
   "source": [
    "from nltk.corpus import wordnet\n",
    "\n",
    "# Define the query term\n",
    "query_term = \"analyze\"\n"
   ]
  },
  {
   "cell_type": "code",
   "execution_count": 19,
   "metadata": {},
   "outputs": [
    {
     "name": "stdout",
     "output_type": "stream",
     "text": [
      "Synonyms of position :\n",
      "['position', 'place', 'military_position', 'position', 'position', 'view', 'perspective', 'position', 'posture', 'attitude', 'status', 'position', 'position', 'post', 'berth', 'office', 'spot', 'billet', 'place', 'situation', 'position', 'spatial_relation', 'position', 'position', 'placement', 'location', 'locating', 'position', 'positioning', 'emplacement', 'situation', 'position', 'position', 'stance', 'posture', 'side', 'position', 'place', 'position', 'stead', 'position', 'place', 'lieu', 'position', 'position', 'put', 'set', 'place', 'pose', 'position', 'lay']\n"
     ]
    }
   ],
   "source": [
    "# Find synonyms of the query term using WordNet\n",
    "query_term = \"position\"\n",
    "synonyms = []\n",
    "for syn in wordnet.synsets(query_term):\n",
    "    for lemma in syn.lemmas():\n",
    "        synonyms.append(lemma.name())\n",
    "\n",
    "# Print the synonyms\n",
    "print(\"Synonyms of\", query_term, \":\")\n",
    "print(synonyms)"
   ]
  },
  {
   "cell_type": "code",
   "execution_count": null,
   "metadata": {},
   "outputs": [],
   "source": []
  }
 ],
 "metadata": {
  "kernelspec": {
   "display_name": "Python 3",
   "language": "python",
   "name": "python3"
  },
  "language_info": {
   "codemirror_mode": {
    "name": "ipython",
    "version": 3
   },
   "file_extension": ".py",
   "mimetype": "text/x-python",
   "name": "python",
   "nbconvert_exporter": "python",
   "pygments_lexer": "ipython3",
   "version": "3.7.6"
  }
 },
 "nbformat": 4,
 "nbformat_minor": 4
}
